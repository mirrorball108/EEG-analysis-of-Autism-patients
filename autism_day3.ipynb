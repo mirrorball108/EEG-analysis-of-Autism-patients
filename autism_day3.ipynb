{
  "nbformat": 4,
  "nbformat_minor": 0,
  "metadata": {
    "colab": {
      "provenance": [],
      "authorship_tag": "ABX9TyOxPxWkQtsMRRDJBhuJCB5+",
      "include_colab_link": true
    },
    "kernelspec": {
      "name": "python3",
      "display_name": "Python 3"
    },
    "language_info": {
      "name": "python"
    }
  },
  "cells": [
    {
      "cell_type": "markdown",
      "metadata": {
        "id": "view-in-github",
        "colab_type": "text"
      },
      "source": [
        "<a href=\"https://colab.research.google.com/github/mirrorball108/EEG-analysis-of-Autism-patients/blob/main/autism_day3.ipynb\" target=\"_parent\"><img src=\"https://colab.research.google.com/assets/colab-badge.svg\" alt=\"Open In Colab\"/></a>"
      ]
    },
    {
      "cell_type": "code",
      "execution_count": null,
      "metadata": {
        "id": "umk-CJResm5r"
      },
      "outputs": [],
      "source": [
        "import pandas as pd\n",
        "import numpy as np"
      ]
    },
    {
      "cell_type": "code",
      "source": [
        "df_pre=pd.read_csv('/content/pre_treatement_combined.csv')\n",
        "df_pre.head()"
      ],
      "metadata": {
        "colab": {
          "base_uri": "https://localhost:8080/",
          "height": 206
        },
        "id": "IfdCtUQnuSay",
        "outputId": "94af04c4-fc52-49ee-e888-6627cdf5bbf2"
      },
      "execution_count": null,
      "outputs": [
        {
          "output_type": "execute_result",
          "data": {
            "text/plain": [
              "   FP2-F4  F4 -C4  C4 -P4  P4 -O2  FP1-F3  F3 -C3  C3 -P3  P3 -O1  FP2-F8  \\\n",
              "0     -65       3     -16      20       5      -4     -65      84      26   \n",
              "1    -108      41     -17      16     -28     183     -85      79      22   \n",
              "2    -177     102     -20      12     -84     481    -113      69      16   \n",
              "3    -270     177     -23       6    -157     849    -145      55       2   \n",
              "4    -383     260     -26      -1    -242    1250    -178      37     -21   \n",
              "\n",
              "   F8 -T4  T4 -T6  T6 -O2  FP1-F7  F7 -T3  T3 -T5  T5 -O1  \n",
              "0     -71      -7      -8      76     -40     -44      28  \n",
              "1     -86       5     -10     201     -12     -42       2  \n",
              "2    -111      25     -14     402      30     -41     -38  \n",
              "3    -144      51     -19     647      81     -40     -87  \n",
              "4    -184      80     -26     911     137     -42    -140  "
            ],
            "text/html": [
              "\n",
              "  <div id=\"df-526150bf-d8eb-485d-90b8-829929ea22fe\" class=\"colab-df-container\">\n",
              "    <div>\n",
              "<style scoped>\n",
              "    .dataframe tbody tr th:only-of-type {\n",
              "        vertical-align: middle;\n",
              "    }\n",
              "\n",
              "    .dataframe tbody tr th {\n",
              "        vertical-align: top;\n",
              "    }\n",
              "\n",
              "    .dataframe thead th {\n",
              "        text-align: right;\n",
              "    }\n",
              "</style>\n",
              "<table border=\"1\" class=\"dataframe\">\n",
              "  <thead>\n",
              "    <tr style=\"text-align: right;\">\n",
              "      <th></th>\n",
              "      <th>FP2-F4</th>\n",
              "      <th>F4 -C4</th>\n",
              "      <th>C4 -P4</th>\n",
              "      <th>P4 -O2</th>\n",
              "      <th>FP1-F3</th>\n",
              "      <th>F3 -C3</th>\n",
              "      <th>C3 -P3</th>\n",
              "      <th>P3 -O1</th>\n",
              "      <th>FP2-F8</th>\n",
              "      <th>F8 -T4</th>\n",
              "      <th>T4 -T6</th>\n",
              "      <th>T6 -O2</th>\n",
              "      <th>FP1-F7</th>\n",
              "      <th>F7 -T3</th>\n",
              "      <th>T3 -T5</th>\n",
              "      <th>T5 -O1</th>\n",
              "    </tr>\n",
              "  </thead>\n",
              "  <tbody>\n",
              "    <tr>\n",
              "      <th>0</th>\n",
              "      <td>-65</td>\n",
              "      <td>3</td>\n",
              "      <td>-16</td>\n",
              "      <td>20</td>\n",
              "      <td>5</td>\n",
              "      <td>-4</td>\n",
              "      <td>-65</td>\n",
              "      <td>84</td>\n",
              "      <td>26</td>\n",
              "      <td>-71</td>\n",
              "      <td>-7</td>\n",
              "      <td>-8</td>\n",
              "      <td>76</td>\n",
              "      <td>-40</td>\n",
              "      <td>-44</td>\n",
              "      <td>28</td>\n",
              "    </tr>\n",
              "    <tr>\n",
              "      <th>1</th>\n",
              "      <td>-108</td>\n",
              "      <td>41</td>\n",
              "      <td>-17</td>\n",
              "      <td>16</td>\n",
              "      <td>-28</td>\n",
              "      <td>183</td>\n",
              "      <td>-85</td>\n",
              "      <td>79</td>\n",
              "      <td>22</td>\n",
              "      <td>-86</td>\n",
              "      <td>5</td>\n",
              "      <td>-10</td>\n",
              "      <td>201</td>\n",
              "      <td>-12</td>\n",
              "      <td>-42</td>\n",
              "      <td>2</td>\n",
              "    </tr>\n",
              "    <tr>\n",
              "      <th>2</th>\n",
              "      <td>-177</td>\n",
              "      <td>102</td>\n",
              "      <td>-20</td>\n",
              "      <td>12</td>\n",
              "      <td>-84</td>\n",
              "      <td>481</td>\n",
              "      <td>-113</td>\n",
              "      <td>69</td>\n",
              "      <td>16</td>\n",
              "      <td>-111</td>\n",
              "      <td>25</td>\n",
              "      <td>-14</td>\n",
              "      <td>402</td>\n",
              "      <td>30</td>\n",
              "      <td>-41</td>\n",
              "      <td>-38</td>\n",
              "    </tr>\n",
              "    <tr>\n",
              "      <th>3</th>\n",
              "      <td>-270</td>\n",
              "      <td>177</td>\n",
              "      <td>-23</td>\n",
              "      <td>6</td>\n",
              "      <td>-157</td>\n",
              "      <td>849</td>\n",
              "      <td>-145</td>\n",
              "      <td>55</td>\n",
              "      <td>2</td>\n",
              "      <td>-144</td>\n",
              "      <td>51</td>\n",
              "      <td>-19</td>\n",
              "      <td>647</td>\n",
              "      <td>81</td>\n",
              "      <td>-40</td>\n",
              "      <td>-87</td>\n",
              "    </tr>\n",
              "    <tr>\n",
              "      <th>4</th>\n",
              "      <td>-383</td>\n",
              "      <td>260</td>\n",
              "      <td>-26</td>\n",
              "      <td>-1</td>\n",
              "      <td>-242</td>\n",
              "      <td>1250</td>\n",
              "      <td>-178</td>\n",
              "      <td>37</td>\n",
              "      <td>-21</td>\n",
              "      <td>-184</td>\n",
              "      <td>80</td>\n",
              "      <td>-26</td>\n",
              "      <td>911</td>\n",
              "      <td>137</td>\n",
              "      <td>-42</td>\n",
              "      <td>-140</td>\n",
              "    </tr>\n",
              "  </tbody>\n",
              "</table>\n",
              "</div>\n",
              "    <div class=\"colab-df-buttons\">\n",
              "\n",
              "  <div class=\"colab-df-container\">\n",
              "    <button class=\"colab-df-convert\" onclick=\"convertToInteractive('df-526150bf-d8eb-485d-90b8-829929ea22fe')\"\n",
              "            title=\"Convert this dataframe to an interactive table.\"\n",
              "            style=\"display:none;\">\n",
              "\n",
              "  <svg xmlns=\"http://www.w3.org/2000/svg\" height=\"24px\" viewBox=\"0 -960 960 960\">\n",
              "    <path d=\"M120-120v-720h720v720H120Zm60-500h600v-160H180v160Zm220 220h160v-160H400v160Zm0 220h160v-160H400v160ZM180-400h160v-160H180v160Zm440 0h160v-160H620v160ZM180-180h160v-160H180v160Zm440 0h160v-160H620v160Z\"/>\n",
              "  </svg>\n",
              "    </button>\n",
              "\n",
              "  <style>\n",
              "    .colab-df-container {\n",
              "      display:flex;\n",
              "      gap: 12px;\n",
              "    }\n",
              "\n",
              "    .colab-df-convert {\n",
              "      background-color: #E8F0FE;\n",
              "      border: none;\n",
              "      border-radius: 50%;\n",
              "      cursor: pointer;\n",
              "      display: none;\n",
              "      fill: #1967D2;\n",
              "      height: 32px;\n",
              "      padding: 0 0 0 0;\n",
              "      width: 32px;\n",
              "    }\n",
              "\n",
              "    .colab-df-convert:hover {\n",
              "      background-color: #E2EBFA;\n",
              "      box-shadow: 0px 1px 2px rgba(60, 64, 67, 0.3), 0px 1px 3px 1px rgba(60, 64, 67, 0.15);\n",
              "      fill: #174EA6;\n",
              "    }\n",
              "\n",
              "    .colab-df-buttons div {\n",
              "      margin-bottom: 4px;\n",
              "    }\n",
              "\n",
              "    [theme=dark] .colab-df-convert {\n",
              "      background-color: #3B4455;\n",
              "      fill: #D2E3FC;\n",
              "    }\n",
              "\n",
              "    [theme=dark] .colab-df-convert:hover {\n",
              "      background-color: #434B5C;\n",
              "      box-shadow: 0px 1px 3px 1px rgba(0, 0, 0, 0.15);\n",
              "      filter: drop-shadow(0px 1px 2px rgba(0, 0, 0, 0.3));\n",
              "      fill: #FFFFFF;\n",
              "    }\n",
              "  </style>\n",
              "\n",
              "    <script>\n",
              "      const buttonEl =\n",
              "        document.querySelector('#df-526150bf-d8eb-485d-90b8-829929ea22fe button.colab-df-convert');\n",
              "      buttonEl.style.display =\n",
              "        google.colab.kernel.accessAllowed ? 'block' : 'none';\n",
              "\n",
              "      async function convertToInteractive(key) {\n",
              "        const element = document.querySelector('#df-526150bf-d8eb-485d-90b8-829929ea22fe');\n",
              "        const dataTable =\n",
              "          await google.colab.kernel.invokeFunction('convertToInteractive',\n",
              "                                                    [key], {});\n",
              "        if (!dataTable) return;\n",
              "\n",
              "        const docLinkHtml = 'Like what you see? Visit the ' +\n",
              "          '<a target=\"_blank\" href=https://colab.research.google.com/notebooks/data_table.ipynb>data table notebook</a>'\n",
              "          + ' to learn more about interactive tables.';\n",
              "        element.innerHTML = '';\n",
              "        dataTable['output_type'] = 'display_data';\n",
              "        await google.colab.output.renderOutput(dataTable, element);\n",
              "        const docLink = document.createElement('div');\n",
              "        docLink.innerHTML = docLinkHtml;\n",
              "        element.appendChild(docLink);\n",
              "      }\n",
              "    </script>\n",
              "  </div>\n",
              "\n",
              "\n",
              "    <div id=\"df-c9109792-0321-4061-92a5-4d48cfe04ccf\">\n",
              "      <button class=\"colab-df-quickchart\" onclick=\"quickchart('df-c9109792-0321-4061-92a5-4d48cfe04ccf')\"\n",
              "                title=\"Suggest charts\"\n",
              "                style=\"display:none;\">\n",
              "\n",
              "<svg xmlns=\"http://www.w3.org/2000/svg\" height=\"24px\"viewBox=\"0 0 24 24\"\n",
              "     width=\"24px\">\n",
              "    <g>\n",
              "        <path d=\"M19 3H5c-1.1 0-2 .9-2 2v14c0 1.1.9 2 2 2h14c1.1 0 2-.9 2-2V5c0-1.1-.9-2-2-2zM9 17H7v-7h2v7zm4 0h-2V7h2v10zm4 0h-2v-4h2v4z\"/>\n",
              "    </g>\n",
              "</svg>\n",
              "      </button>\n",
              "\n",
              "<style>\n",
              "  .colab-df-quickchart {\n",
              "      --bg-color: #E8F0FE;\n",
              "      --fill-color: #1967D2;\n",
              "      --hover-bg-color: #E2EBFA;\n",
              "      --hover-fill-color: #174EA6;\n",
              "      --disabled-fill-color: #AAA;\n",
              "      --disabled-bg-color: #DDD;\n",
              "  }\n",
              "\n",
              "  [theme=dark] .colab-df-quickchart {\n",
              "      --bg-color: #3B4455;\n",
              "      --fill-color: #D2E3FC;\n",
              "      --hover-bg-color: #434B5C;\n",
              "      --hover-fill-color: #FFFFFF;\n",
              "      --disabled-bg-color: #3B4455;\n",
              "      --disabled-fill-color: #666;\n",
              "  }\n",
              "\n",
              "  .colab-df-quickchart {\n",
              "    background-color: var(--bg-color);\n",
              "    border: none;\n",
              "    border-radius: 50%;\n",
              "    cursor: pointer;\n",
              "    display: none;\n",
              "    fill: var(--fill-color);\n",
              "    height: 32px;\n",
              "    padding: 0;\n",
              "    width: 32px;\n",
              "  }\n",
              "\n",
              "  .colab-df-quickchart:hover {\n",
              "    background-color: var(--hover-bg-color);\n",
              "    box-shadow: 0 1px 2px rgba(60, 64, 67, 0.3), 0 1px 3px 1px rgba(60, 64, 67, 0.15);\n",
              "    fill: var(--button-hover-fill-color);\n",
              "  }\n",
              "\n",
              "  .colab-df-quickchart-complete:disabled,\n",
              "  .colab-df-quickchart-complete:disabled:hover {\n",
              "    background-color: var(--disabled-bg-color);\n",
              "    fill: var(--disabled-fill-color);\n",
              "    box-shadow: none;\n",
              "  }\n",
              "\n",
              "  .colab-df-spinner {\n",
              "    border: 2px solid var(--fill-color);\n",
              "    border-color: transparent;\n",
              "    border-bottom-color: var(--fill-color);\n",
              "    animation:\n",
              "      spin 1s steps(1) infinite;\n",
              "  }\n",
              "\n",
              "  @keyframes spin {\n",
              "    0% {\n",
              "      border-color: transparent;\n",
              "      border-bottom-color: var(--fill-color);\n",
              "      border-left-color: var(--fill-color);\n",
              "    }\n",
              "    20% {\n",
              "      border-color: transparent;\n",
              "      border-left-color: var(--fill-color);\n",
              "      border-top-color: var(--fill-color);\n",
              "    }\n",
              "    30% {\n",
              "      border-color: transparent;\n",
              "      border-left-color: var(--fill-color);\n",
              "      border-top-color: var(--fill-color);\n",
              "      border-right-color: var(--fill-color);\n",
              "    }\n",
              "    40% {\n",
              "      border-color: transparent;\n",
              "      border-right-color: var(--fill-color);\n",
              "      border-top-color: var(--fill-color);\n",
              "    }\n",
              "    60% {\n",
              "      border-color: transparent;\n",
              "      border-right-color: var(--fill-color);\n",
              "    }\n",
              "    80% {\n",
              "      border-color: transparent;\n",
              "      border-right-color: var(--fill-color);\n",
              "      border-bottom-color: var(--fill-color);\n",
              "    }\n",
              "    90% {\n",
              "      border-color: transparent;\n",
              "      border-bottom-color: var(--fill-color);\n",
              "    }\n",
              "  }\n",
              "</style>\n",
              "\n",
              "      <script>\n",
              "        async function quickchart(key) {\n",
              "          const quickchartButtonEl =\n",
              "            document.querySelector('#' + key + ' button');\n",
              "          quickchartButtonEl.disabled = true;  // To prevent multiple clicks.\n",
              "          quickchartButtonEl.classList.add('colab-df-spinner');\n",
              "          try {\n",
              "            const charts = await google.colab.kernel.invokeFunction(\n",
              "                'suggestCharts', [key], {});\n",
              "          } catch (error) {\n",
              "            console.error('Error during call to suggestCharts:', error);\n",
              "          }\n",
              "          quickchartButtonEl.classList.remove('colab-df-spinner');\n",
              "          quickchartButtonEl.classList.add('colab-df-quickchart-complete');\n",
              "        }\n",
              "        (() => {\n",
              "          let quickchartButtonEl =\n",
              "            document.querySelector('#df-c9109792-0321-4061-92a5-4d48cfe04ccf button');\n",
              "          quickchartButtonEl.style.display =\n",
              "            google.colab.kernel.accessAllowed ? 'block' : 'none';\n",
              "        })();\n",
              "      </script>\n",
              "    </div>\n",
              "\n",
              "    </div>\n",
              "  </div>\n"
            ],
            "application/vnd.google.colaboratory.intrinsic+json": {
              "type": "dataframe",
              "variable_name": "df_pre",
              "summary": "{\n  \"name\": \"df_pre\",\n  \"rows\": 7680,\n  \"fields\": [\n    {\n      \"column\": \"FP2-F4\",\n      \"properties\": {\n        \"dtype\": \"number\",\n        \"std\": 136,\n        \"min\": -914,\n        \"max\": 481,\n        \"num_unique_values\": 815,\n        \"samples\": [\n          -109,\n          -420,\n          177\n        ],\n        \"semantic_type\": \"\",\n        \"description\": \"\"\n      }\n    },\n    {\n      \"column\": \"F4 -C4\",\n      \"properties\": {\n        \"dtype\": \"number\",\n        \"std\": 99,\n        \"min\": -1085,\n        \"max\": 417,\n        \"num_unique_values\": 596,\n        \"samples\": [\n          -187,\n          -419,\n          -99\n        ],\n        \"semantic_type\": \"\",\n        \"description\": \"\"\n      }\n    },\n    {\n      \"column\": \"C4 -P4\",\n      \"properties\": {\n        \"dtype\": \"number\",\n        \"std\": 37,\n        \"min\": -208,\n        \"max\": 120,\n        \"num_unique_values\": 236,\n        \"samples\": [\n          -91,\n          89,\n          -86\n        ],\n        \"semantic_type\": \"\",\n        \"description\": \"\"\n      }\n    },\n    {\n      \"column\": \"P4 -O2\",\n      \"properties\": {\n        \"dtype\": \"number\",\n        \"std\": 57,\n        \"min\": -742,\n        \"max\": 192,\n        \"num_unique_values\": 364,\n        \"samples\": [\n          132,\n          -37,\n          1\n        ],\n        \"semantic_type\": \"\",\n        \"description\": \"\"\n      }\n    },\n    {\n      \"column\": \"FP1-F3\",\n      \"properties\": {\n        \"dtype\": \"number\",\n        \"std\": 108,\n        \"min\": -883,\n        \"max\": 755,\n        \"num_unique_values\": 659,\n        \"samples\": [\n          -506,\n          -380,\n          0\n        ],\n        \"semantic_type\": \"\",\n        \"description\": \"\"\n      }\n    },\n    {\n      \"column\": \"F3 -C3\",\n      \"properties\": {\n        \"dtype\": \"number\",\n        \"std\": 139,\n        \"min\": -1180,\n        \"max\": 1806,\n        \"num_unique_values\": 672,\n        \"samples\": [\n          -150,\n          -71,\n          -453\n        ],\n        \"semantic_type\": \"\",\n        \"description\": \"\"\n      }\n    },\n    {\n      \"column\": \"C3 -P3\",\n      \"properties\": {\n        \"dtype\": \"number\",\n        \"std\": 38,\n        \"min\": -223,\n        \"max\": 154,\n        \"num_unique_values\": 272,\n        \"samples\": [\n          -81,\n          -11,\n          24\n        ],\n        \"semantic_type\": \"\",\n        \"description\": \"\"\n      }\n    },\n    {\n      \"column\": \"P3 -O1\",\n      \"properties\": {\n        \"dtype\": \"number\",\n        \"std\": 84,\n        \"min\": -550,\n        \"max\": 719,\n        \"num_unique_values\": 540,\n        \"samples\": [\n          -88,\n          57,\n          335\n        ],\n        \"semantic_type\": \"\",\n        \"description\": \"\"\n      }\n    },\n    {\n      \"column\": \"FP2-F8\",\n      \"properties\": {\n        \"dtype\": \"number\",\n        \"std\": 189,\n        \"min\": -1613,\n        \"max\": 885,\n        \"num_unique_values\": 1023,\n        \"samples\": [\n          164,\n          343,\n          -742\n        ],\n        \"semantic_type\": \"\",\n        \"description\": \"\"\n      }\n    },\n    {\n      \"column\": \"F8 -T4\",\n      \"properties\": {\n        \"dtype\": \"number\",\n        \"std\": 52,\n        \"min\": -288,\n        \"max\": 316,\n        \"num_unique_values\": 380,\n        \"samples\": [\n          54,\n          -119,\n          65\n        ],\n        \"semantic_type\": \"\",\n        \"description\": \"\"\n      }\n    },\n    {\n      \"column\": \"T4 -T6\",\n      \"properties\": {\n        \"dtype\": \"number\",\n        \"std\": 41,\n        \"min\": -155,\n        \"max\": 251,\n        \"num_unique_values\": 308,\n        \"samples\": [\n          164,\n          95,\n          -51\n        ],\n        \"semantic_type\": \"\",\n        \"description\": \"\"\n      }\n    },\n    {\n      \"column\": \"T6 -O2\",\n      \"properties\": {\n        \"dtype\": \"number\",\n        \"std\": 87,\n        \"min\": -1376,\n        \"max\": 424,\n        \"num_unique_values\": 426,\n        \"samples\": [\n          -112,\n          84,\n          67\n        ],\n        \"semantic_type\": \"\",\n        \"description\": \"\"\n      }\n    },\n    {\n      \"column\": \"FP1-F7\",\n      \"properties\": {\n        \"dtype\": \"number\",\n        \"std\": 168,\n        \"min\": -1431,\n        \"max\": 1227,\n        \"num_unique_values\": 888,\n        \"samples\": [\n          -342,\n          192,\n          347\n        ],\n        \"semantic_type\": \"\",\n        \"description\": \"\"\n      }\n    },\n    {\n      \"column\": \"F7 -T3\",\n      \"properties\": {\n        \"dtype\": \"number\",\n        \"std\": 49,\n        \"min\": -263,\n        \"max\": 258,\n        \"num_unique_values\": 373,\n        \"samples\": [\n          -162,\n          123,\n          217\n        ],\n        \"semantic_type\": \"\",\n        \"description\": \"\"\n      }\n    },\n    {\n      \"column\": \"T3 -T5\",\n      \"properties\": {\n        \"dtype\": \"number\",\n        \"std\": 69,\n        \"min\": -667,\n        \"max\": 314,\n        \"num_unique_values\": 445,\n        \"samples\": [\n          91,\n          -595,\n          234\n        ],\n        \"semantic_type\": \"\",\n        \"description\": \"\"\n      }\n    },\n    {\n      \"column\": \"T5 -O1\",\n      \"properties\": {\n        \"dtype\": \"number\",\n        \"std\": 72,\n        \"min\": -254,\n        \"max\": 288,\n        \"num_unique_values\": 468,\n        \"samples\": [\n          243,\n          222,\n          229\n        ],\n        \"semantic_type\": \"\",\n        \"description\": \"\"\n      }\n    }\n  ]\n}"
            }
          },
          "metadata": {},
          "execution_count": 2
        }
      ]
    },
    {
      "cell_type": "code",
      "source": [
        "df_post=pd.read_csv('/content/post_treatment_combined.csv')\n",
        "df_post=df_post.drop([0,1])\n",
        "df_post.head()"
      ],
      "metadata": {
        "colab": {
          "base_uri": "https://localhost:8080/",
          "height": 206
        },
        "id": "5yHCnliBubCB",
        "outputId": "4e7c7883-9956-4878-828d-cefd2dacd647"
      },
      "execution_count": null,
      "outputs": [
        {
          "output_type": "execute_result",
          "data": {
            "text/plain": [
              "   FP2-F4  F4 -C4  C4 -P4  P4 -O2  FP1-F3  F3 -C3  C3 -P3  P3 -O1  FP2-F8  \\\n",
              "2   -74.0     4.0   -16.0   -53.0     1.0   -15.0   -22.0   -32.0   -24.0   \n",
              "3   -92.0     0.0   -14.0   -31.0   -28.0    -5.0   -20.0   -26.0   -47.0   \n",
              "4  -126.0    -3.0   -12.0   -12.0   -61.0     5.0   -17.0   -21.0   -89.0   \n",
              "5  -163.0    -5.0   -10.0    -5.0   -85.0    10.0   -13.0   -18.0  -136.0   \n",
              "6  -188.0    -6.0    -9.0    -8.0   -91.0    10.0   -10.0   -18.0  -171.0   \n",
              "\n",
              "   F8 -T4  T4 -T6  T6 -O2  FP1-F7  F7 -T3  T3 -T5  T5 -O1  \n",
              "2   -47.0   -56.0   -13.0    -8.0   -43.0     7.0   -24.0  \n",
              "3   -42.0   -57.0     9.0   -28.0   -46.0    12.0   -17.0  \n",
              "4   -32.0   -57.0    24.0   -52.0   -48.0    18.0   -12.0  \n",
              "5   -19.0   -55.0    28.0   -72.0   -47.0    22.0    -9.0  \n",
              "6    -8.0   -53.0    20.0   -82.0   -45.0    23.0    -7.0  "
            ],
            "text/html": [
              "\n",
              "  <div id=\"df-57cc614c-0761-413e-b30d-b7c0ae082047\" class=\"colab-df-container\">\n",
              "    <div>\n",
              "<style scoped>\n",
              "    .dataframe tbody tr th:only-of-type {\n",
              "        vertical-align: middle;\n",
              "    }\n",
              "\n",
              "    .dataframe tbody tr th {\n",
              "        vertical-align: top;\n",
              "    }\n",
              "\n",
              "    .dataframe thead th {\n",
              "        text-align: right;\n",
              "    }\n",
              "</style>\n",
              "<table border=\"1\" class=\"dataframe\">\n",
              "  <thead>\n",
              "    <tr style=\"text-align: right;\">\n",
              "      <th></th>\n",
              "      <th>FP2-F4</th>\n",
              "      <th>F4 -C4</th>\n",
              "      <th>C4 -P4</th>\n",
              "      <th>P4 -O2</th>\n",
              "      <th>FP1-F3</th>\n",
              "      <th>F3 -C3</th>\n",
              "      <th>C3 -P3</th>\n",
              "      <th>P3 -O1</th>\n",
              "      <th>FP2-F8</th>\n",
              "      <th>F8 -T4</th>\n",
              "      <th>T4 -T6</th>\n",
              "      <th>T6 -O2</th>\n",
              "      <th>FP1-F7</th>\n",
              "      <th>F7 -T3</th>\n",
              "      <th>T3 -T5</th>\n",
              "      <th>T5 -O1</th>\n",
              "    </tr>\n",
              "  </thead>\n",
              "  <tbody>\n",
              "    <tr>\n",
              "      <th>2</th>\n",
              "      <td>-74.0</td>\n",
              "      <td>4.0</td>\n",
              "      <td>-16.0</td>\n",
              "      <td>-53.0</td>\n",
              "      <td>1.0</td>\n",
              "      <td>-15.0</td>\n",
              "      <td>-22.0</td>\n",
              "      <td>-32.0</td>\n",
              "      <td>-24.0</td>\n",
              "      <td>-47.0</td>\n",
              "      <td>-56.0</td>\n",
              "      <td>-13.0</td>\n",
              "      <td>-8.0</td>\n",
              "      <td>-43.0</td>\n",
              "      <td>7.0</td>\n",
              "      <td>-24.0</td>\n",
              "    </tr>\n",
              "    <tr>\n",
              "      <th>3</th>\n",
              "      <td>-92.0</td>\n",
              "      <td>0.0</td>\n",
              "      <td>-14.0</td>\n",
              "      <td>-31.0</td>\n",
              "      <td>-28.0</td>\n",
              "      <td>-5.0</td>\n",
              "      <td>-20.0</td>\n",
              "      <td>-26.0</td>\n",
              "      <td>-47.0</td>\n",
              "      <td>-42.0</td>\n",
              "      <td>-57.0</td>\n",
              "      <td>9.0</td>\n",
              "      <td>-28.0</td>\n",
              "      <td>-46.0</td>\n",
              "      <td>12.0</td>\n",
              "      <td>-17.0</td>\n",
              "    </tr>\n",
              "    <tr>\n",
              "      <th>4</th>\n",
              "      <td>-126.0</td>\n",
              "      <td>-3.0</td>\n",
              "      <td>-12.0</td>\n",
              "      <td>-12.0</td>\n",
              "      <td>-61.0</td>\n",
              "      <td>5.0</td>\n",
              "      <td>-17.0</td>\n",
              "      <td>-21.0</td>\n",
              "      <td>-89.0</td>\n",
              "      <td>-32.0</td>\n",
              "      <td>-57.0</td>\n",
              "      <td>24.0</td>\n",
              "      <td>-52.0</td>\n",
              "      <td>-48.0</td>\n",
              "      <td>18.0</td>\n",
              "      <td>-12.0</td>\n",
              "    </tr>\n",
              "    <tr>\n",
              "      <th>5</th>\n",
              "      <td>-163.0</td>\n",
              "      <td>-5.0</td>\n",
              "      <td>-10.0</td>\n",
              "      <td>-5.0</td>\n",
              "      <td>-85.0</td>\n",
              "      <td>10.0</td>\n",
              "      <td>-13.0</td>\n",
              "      <td>-18.0</td>\n",
              "      <td>-136.0</td>\n",
              "      <td>-19.0</td>\n",
              "      <td>-55.0</td>\n",
              "      <td>28.0</td>\n",
              "      <td>-72.0</td>\n",
              "      <td>-47.0</td>\n",
              "      <td>22.0</td>\n",
              "      <td>-9.0</td>\n",
              "    </tr>\n",
              "    <tr>\n",
              "      <th>6</th>\n",
              "      <td>-188.0</td>\n",
              "      <td>-6.0</td>\n",
              "      <td>-9.0</td>\n",
              "      <td>-8.0</td>\n",
              "      <td>-91.0</td>\n",
              "      <td>10.0</td>\n",
              "      <td>-10.0</td>\n",
              "      <td>-18.0</td>\n",
              "      <td>-171.0</td>\n",
              "      <td>-8.0</td>\n",
              "      <td>-53.0</td>\n",
              "      <td>20.0</td>\n",
              "      <td>-82.0</td>\n",
              "      <td>-45.0</td>\n",
              "      <td>23.0</td>\n",
              "      <td>-7.0</td>\n",
              "    </tr>\n",
              "  </tbody>\n",
              "</table>\n",
              "</div>\n",
              "    <div class=\"colab-df-buttons\">\n",
              "\n",
              "  <div class=\"colab-df-container\">\n",
              "    <button class=\"colab-df-convert\" onclick=\"convertToInteractive('df-57cc614c-0761-413e-b30d-b7c0ae082047')\"\n",
              "            title=\"Convert this dataframe to an interactive table.\"\n",
              "            style=\"display:none;\">\n",
              "\n",
              "  <svg xmlns=\"http://www.w3.org/2000/svg\" height=\"24px\" viewBox=\"0 -960 960 960\">\n",
              "    <path d=\"M120-120v-720h720v720H120Zm60-500h600v-160H180v160Zm220 220h160v-160H400v160Zm0 220h160v-160H400v160ZM180-400h160v-160H180v160Zm440 0h160v-160H620v160ZM180-180h160v-160H180v160Zm440 0h160v-160H620v160Z\"/>\n",
              "  </svg>\n",
              "    </button>\n",
              "\n",
              "  <style>\n",
              "    .colab-df-container {\n",
              "      display:flex;\n",
              "      gap: 12px;\n",
              "    }\n",
              "\n",
              "    .colab-df-convert {\n",
              "      background-color: #E8F0FE;\n",
              "      border: none;\n",
              "      border-radius: 50%;\n",
              "      cursor: pointer;\n",
              "      display: none;\n",
              "      fill: #1967D2;\n",
              "      height: 32px;\n",
              "      padding: 0 0 0 0;\n",
              "      width: 32px;\n",
              "    }\n",
              "\n",
              "    .colab-df-convert:hover {\n",
              "      background-color: #E2EBFA;\n",
              "      box-shadow: 0px 1px 2px rgba(60, 64, 67, 0.3), 0px 1px 3px 1px rgba(60, 64, 67, 0.15);\n",
              "      fill: #174EA6;\n",
              "    }\n",
              "\n",
              "    .colab-df-buttons div {\n",
              "      margin-bottom: 4px;\n",
              "    }\n",
              "\n",
              "    [theme=dark] .colab-df-convert {\n",
              "      background-color: #3B4455;\n",
              "      fill: #D2E3FC;\n",
              "    }\n",
              "\n",
              "    [theme=dark] .colab-df-convert:hover {\n",
              "      background-color: #434B5C;\n",
              "      box-shadow: 0px 1px 3px 1px rgba(0, 0, 0, 0.15);\n",
              "      filter: drop-shadow(0px 1px 2px rgba(0, 0, 0, 0.3));\n",
              "      fill: #FFFFFF;\n",
              "    }\n",
              "  </style>\n",
              "\n",
              "    <script>\n",
              "      const buttonEl =\n",
              "        document.querySelector('#df-57cc614c-0761-413e-b30d-b7c0ae082047 button.colab-df-convert');\n",
              "      buttonEl.style.display =\n",
              "        google.colab.kernel.accessAllowed ? 'block' : 'none';\n",
              "\n",
              "      async function convertToInteractive(key) {\n",
              "        const element = document.querySelector('#df-57cc614c-0761-413e-b30d-b7c0ae082047');\n",
              "        const dataTable =\n",
              "          await google.colab.kernel.invokeFunction('convertToInteractive',\n",
              "                                                    [key], {});\n",
              "        if (!dataTable) return;\n",
              "\n",
              "        const docLinkHtml = 'Like what you see? Visit the ' +\n",
              "          '<a target=\"_blank\" href=https://colab.research.google.com/notebooks/data_table.ipynb>data table notebook</a>'\n",
              "          + ' to learn more about interactive tables.';\n",
              "        element.innerHTML = '';\n",
              "        dataTable['output_type'] = 'display_data';\n",
              "        await google.colab.output.renderOutput(dataTable, element);\n",
              "        const docLink = document.createElement('div');\n",
              "        docLink.innerHTML = docLinkHtml;\n",
              "        element.appendChild(docLink);\n",
              "      }\n",
              "    </script>\n",
              "  </div>\n",
              "\n",
              "\n",
              "    <div id=\"df-823d69a5-b222-42fc-849b-3091d0341298\">\n",
              "      <button class=\"colab-df-quickchart\" onclick=\"quickchart('df-823d69a5-b222-42fc-849b-3091d0341298')\"\n",
              "                title=\"Suggest charts\"\n",
              "                style=\"display:none;\">\n",
              "\n",
              "<svg xmlns=\"http://www.w3.org/2000/svg\" height=\"24px\"viewBox=\"0 0 24 24\"\n",
              "     width=\"24px\">\n",
              "    <g>\n",
              "        <path d=\"M19 3H5c-1.1 0-2 .9-2 2v14c0 1.1.9 2 2 2h14c1.1 0 2-.9 2-2V5c0-1.1-.9-2-2-2zM9 17H7v-7h2v7zm4 0h-2V7h2v10zm4 0h-2v-4h2v4z\"/>\n",
              "    </g>\n",
              "</svg>\n",
              "      </button>\n",
              "\n",
              "<style>\n",
              "  .colab-df-quickchart {\n",
              "      --bg-color: #E8F0FE;\n",
              "      --fill-color: #1967D2;\n",
              "      --hover-bg-color: #E2EBFA;\n",
              "      --hover-fill-color: #174EA6;\n",
              "      --disabled-fill-color: #AAA;\n",
              "      --disabled-bg-color: #DDD;\n",
              "  }\n",
              "\n",
              "  [theme=dark] .colab-df-quickchart {\n",
              "      --bg-color: #3B4455;\n",
              "      --fill-color: #D2E3FC;\n",
              "      --hover-bg-color: #434B5C;\n",
              "      --hover-fill-color: #FFFFFF;\n",
              "      --disabled-bg-color: #3B4455;\n",
              "      --disabled-fill-color: #666;\n",
              "  }\n",
              "\n",
              "  .colab-df-quickchart {\n",
              "    background-color: var(--bg-color);\n",
              "    border: none;\n",
              "    border-radius: 50%;\n",
              "    cursor: pointer;\n",
              "    display: none;\n",
              "    fill: var(--fill-color);\n",
              "    height: 32px;\n",
              "    padding: 0;\n",
              "    width: 32px;\n",
              "  }\n",
              "\n",
              "  .colab-df-quickchart:hover {\n",
              "    background-color: var(--hover-bg-color);\n",
              "    box-shadow: 0 1px 2px rgba(60, 64, 67, 0.3), 0 1px 3px 1px rgba(60, 64, 67, 0.15);\n",
              "    fill: var(--button-hover-fill-color);\n",
              "  }\n",
              "\n",
              "  .colab-df-quickchart-complete:disabled,\n",
              "  .colab-df-quickchart-complete:disabled:hover {\n",
              "    background-color: var(--disabled-bg-color);\n",
              "    fill: var(--disabled-fill-color);\n",
              "    box-shadow: none;\n",
              "  }\n",
              "\n",
              "  .colab-df-spinner {\n",
              "    border: 2px solid var(--fill-color);\n",
              "    border-color: transparent;\n",
              "    border-bottom-color: var(--fill-color);\n",
              "    animation:\n",
              "      spin 1s steps(1) infinite;\n",
              "  }\n",
              "\n",
              "  @keyframes spin {\n",
              "    0% {\n",
              "      border-color: transparent;\n",
              "      border-bottom-color: var(--fill-color);\n",
              "      border-left-color: var(--fill-color);\n",
              "    }\n",
              "    20% {\n",
              "      border-color: transparent;\n",
              "      border-left-color: var(--fill-color);\n",
              "      border-top-color: var(--fill-color);\n",
              "    }\n",
              "    30% {\n",
              "      border-color: transparent;\n",
              "      border-left-color: var(--fill-color);\n",
              "      border-top-color: var(--fill-color);\n",
              "      border-right-color: var(--fill-color);\n",
              "    }\n",
              "    40% {\n",
              "      border-color: transparent;\n",
              "      border-right-color: var(--fill-color);\n",
              "      border-top-color: var(--fill-color);\n",
              "    }\n",
              "    60% {\n",
              "      border-color: transparent;\n",
              "      border-right-color: var(--fill-color);\n",
              "    }\n",
              "    80% {\n",
              "      border-color: transparent;\n",
              "      border-right-color: var(--fill-color);\n",
              "      border-bottom-color: var(--fill-color);\n",
              "    }\n",
              "    90% {\n",
              "      border-color: transparent;\n",
              "      border-bottom-color: var(--fill-color);\n",
              "    }\n",
              "  }\n",
              "</style>\n",
              "\n",
              "      <script>\n",
              "        async function quickchart(key) {\n",
              "          const quickchartButtonEl =\n",
              "            document.querySelector('#' + key + ' button');\n",
              "          quickchartButtonEl.disabled = true;  // To prevent multiple clicks.\n",
              "          quickchartButtonEl.classList.add('colab-df-spinner');\n",
              "          try {\n",
              "            const charts = await google.colab.kernel.invokeFunction(\n",
              "                'suggestCharts', [key], {});\n",
              "          } catch (error) {\n",
              "            console.error('Error during call to suggestCharts:', error);\n",
              "          }\n",
              "          quickchartButtonEl.classList.remove('colab-df-spinner');\n",
              "          quickchartButtonEl.classList.add('colab-df-quickchart-complete');\n",
              "        }\n",
              "        (() => {\n",
              "          let quickchartButtonEl =\n",
              "            document.querySelector('#df-823d69a5-b222-42fc-849b-3091d0341298 button');\n",
              "          quickchartButtonEl.style.display =\n",
              "            google.colab.kernel.accessAllowed ? 'block' : 'none';\n",
              "        })();\n",
              "      </script>\n",
              "    </div>\n",
              "\n",
              "    </div>\n",
              "  </div>\n"
            ],
            "application/vnd.google.colaboratory.intrinsic+json": {
              "type": "dataframe",
              "variable_name": "df_post",
              "summary": "{\n  \"name\": \"df_post\",\n  \"rows\": 7679,\n  \"fields\": [\n    {\n      \"column\": \"FP2-F4\",\n      \"properties\": {\n        \"dtype\": \"number\",\n        \"std\": 120.5458295559387,\n        \"min\": -795.0,\n        \"max\": 639.0,\n        \"num_unique_values\": 782,\n        \"samples\": [\n          -209.0,\n          -347.0,\n          68.0\n        ],\n        \"semantic_type\": \"\",\n        \"description\": \"\"\n      }\n    },\n    {\n      \"column\": \"F4 -C4\",\n      \"properties\": {\n        \"dtype\": \"number\",\n        \"std\": 41.750374151876606,\n        \"min\": -187.0,\n        \"max\": 169.0,\n        \"num_unique_values\": 307,\n        \"samples\": [\n          63.0,\n          -104.0,\n          -118.0\n        ],\n        \"semantic_type\": \"\",\n        \"description\": \"\"\n      }\n    },\n    {\n      \"column\": \"C4 -P4\",\n      \"properties\": {\n        \"dtype\": \"number\",\n        \"std\": 37.79500542387057,\n        \"min\": -179.0,\n        \"max\": 206.0,\n        \"num_unique_values\": 301,\n        \"samples\": [\n          96.0,\n          126.0,\n          -127.0\n        ],\n        \"semantic_type\": \"\",\n        \"description\": \"\"\n      }\n    },\n    {\n      \"column\": \"P4 -O2\",\n      \"properties\": {\n        \"dtype\": \"number\",\n        \"std\": 62.45910476869641,\n        \"min\": -563.0,\n        \"max\": 526.0,\n        \"num_unique_values\": 431,\n        \"samples\": [\n          231.0,\n          -59.0,\n          -158.0\n        ],\n        \"semantic_type\": \"\",\n        \"description\": \"\"\n      }\n    },\n    {\n      \"column\": \"FP1-F3\",\n      \"properties\": {\n        \"dtype\": \"number\",\n        \"std\": 116.1820620260379,\n        \"min\": -920.0,\n        \"max\": 487.0,\n        \"num_unique_values\": 722,\n        \"samples\": [\n          -326.0,\n          231.0,\n          161.0\n        ],\n        \"semantic_type\": \"\",\n        \"description\": \"\"\n      }\n    },\n    {\n      \"column\": \"F3 -C3\",\n      \"properties\": {\n        \"dtype\": \"number\",\n        \"std\": 39.44151246541637,\n        \"min\": -194.0,\n        \"max\": 177.0,\n        \"num_unique_values\": 295,\n        \"samples\": [\n          165.0,\n          80.0,\n          1.0\n        ],\n        \"semantic_type\": \"\",\n        \"description\": \"\"\n      }\n    },\n    {\n      \"column\": \"C3 -P3\",\n      \"properties\": {\n        \"dtype\": \"number\",\n        \"std\": 31.257264668371658,\n        \"min\": -243.0,\n        \"max\": 186.0,\n        \"num_unique_values\": 273,\n        \"samples\": [\n          -40.0,\n          -42.0,\n          12.0\n        ],\n        \"semantic_type\": \"\",\n        \"description\": \"\"\n      }\n    },\n    {\n      \"column\": \"P3 -O1\",\n      \"properties\": {\n        \"dtype\": \"number\",\n        \"std\": 49.71031989984127,\n        \"min\": -188.0,\n        \"max\": 269.0,\n        \"num_unique_values\": 346,\n        \"samples\": [\n          54.0,\n          238.0,\n          -98.0\n        ],\n        \"semantic_type\": \"\",\n        \"description\": \"\"\n      }\n    },\n    {\n      \"column\": \"FP2-F8\",\n      \"properties\": {\n        \"dtype\": \"number\",\n        \"std\": 160.57294102906536,\n        \"min\": -868.0,\n        \"max\": 943.0,\n        \"num_unique_values\": 929,\n        \"samples\": [\n          320.0,\n          435.0,\n          -40.0\n        ],\n        \"semantic_type\": \"\",\n        \"description\": \"\"\n      }\n    },\n    {\n      \"column\": \"F8 -T4\",\n      \"properties\": {\n        \"dtype\": \"number\",\n        \"std\": 46.87511442054114,\n        \"min\": -289.0,\n        \"max\": 224.0,\n        \"num_unique_values\": 349,\n        \"samples\": [\n          -100.0,\n          -166.0,\n          157.0\n        ],\n        \"semantic_type\": \"\",\n        \"description\": \"\"\n      }\n    },\n    {\n      \"column\": \"T4 -T6\",\n      \"properties\": {\n        \"dtype\": \"number\",\n        \"std\": 48.33899697692138,\n        \"min\": -441.0,\n        \"max\": 160.0,\n        \"num_unique_values\": 331,\n        \"samples\": [\n          23.0,\n          148.0,\n          -52.0\n        ],\n        \"semantic_type\": \"\",\n        \"description\": \"\"\n      }\n    },\n    {\n      \"column\": \"T6 -O2\",\n      \"properties\": {\n        \"dtype\": \"number\",\n        \"std\": 64.22042074418637,\n        \"min\": -456.0,\n        \"max\": 550.0,\n        \"num_unique_values\": 455,\n        \"samples\": [\n          168.0,\n          26.0,\n          -164.0\n        ],\n        \"semantic_type\": \"\",\n        \"description\": \"\"\n      }\n    },\n    {\n      \"column\": \"FP1-F7\",\n      \"properties\": {\n        \"dtype\": \"number\",\n        \"std\": 144.26299006323086,\n        \"min\": -1059.0,\n        \"max\": 545.0,\n        \"num_unique_values\": 854,\n        \"samples\": [\n          102.0,\n          85.0,\n          -120.0\n        ],\n        \"semantic_type\": \"\",\n        \"description\": \"\"\n      }\n    },\n    {\n      \"column\": \"F7 -T3\",\n      \"properties\": {\n        \"dtype\": \"number\",\n        \"std\": 48.695861730182756,\n        \"min\": -273.0,\n        \"max\": 263.0,\n        \"num_unique_values\": 375,\n        \"samples\": [\n          115.0,\n          23.0,\n          -20.0\n        ],\n        \"semantic_type\": \"\",\n        \"description\": \"\"\n      }\n    },\n    {\n      \"column\": \"T3 -T5\",\n      \"properties\": {\n        \"dtype\": \"number\",\n        \"std\": 56.12325604309224,\n        \"min\": -232.0,\n        \"max\": 273.0,\n        \"num_unique_values\": 413,\n        \"samples\": [\n          190.0,\n          -113.0,\n          229.0\n        ],\n        \"semantic_type\": \"\",\n        \"description\": \"\"\n      }\n    },\n    {\n      \"column\": \"T5 -O1\",\n      \"properties\": {\n        \"dtype\": \"number\",\n        \"std\": 58.91435776994331,\n        \"min\": -277.0,\n        \"max\": 227.0,\n        \"num_unique_values\": 405,\n        \"samples\": [\n          103.0,\n          58.0,\n          -246.0\n        ],\n        \"semantic_type\": \"\",\n        \"description\": \"\"\n      }\n    }\n  ]\n}"
            }
          },
          "metadata": {},
          "execution_count": 3
        }
      ]
    },
    {
      "cell_type": "code",
      "source": [
        "df_pre.shape"
      ],
      "metadata": {
        "colab": {
          "base_uri": "https://localhost:8080/"
        },
        "id": "uqyi51TzuxDw",
        "outputId": "1398fad8-68a9-4224-e345-6ca165f5cc08"
      },
      "execution_count": null,
      "outputs": [
        {
          "output_type": "execute_result",
          "data": {
            "text/plain": [
              "(7680, 16)"
            ]
          },
          "metadata": {},
          "execution_count": 4
        }
      ]
    },
    {
      "cell_type": "code",
      "source": [
        "df_post.shape"
      ],
      "metadata": {
        "colab": {
          "base_uri": "https://localhost:8080/"
        },
        "id": "esMX1w6LuxXO",
        "outputId": "68558920-0b01-4719-e227-544254d02e3a"
      },
      "execution_count": null,
      "outputs": [
        {
          "output_type": "execute_result",
          "data": {
            "text/plain": [
              "(7679, 16)"
            ]
          },
          "metadata": {},
          "execution_count": 5
        }
      ]
    },
    {
      "cell_type": "code",
      "source": [
        "#creating labels\n",
        "pre=[1]*7680\n",
        "post=[0]*7679\n",
        "\n",
        "print(pre[0:5])\n",
        "print(post[0:5])\n",
        "\n",
        "labels=pre+post\n",
        "print(len(labels))\n",
        "type(labels)"
      ],
      "metadata": {
        "colab": {
          "base_uri": "https://localhost:8080/"
        },
        "id": "GeRyvZ-suzzw",
        "outputId": "e1a03f9d-bbd7-4617-ddf3-340de44af1a0"
      },
      "execution_count": null,
      "outputs": [
        {
          "output_type": "stream",
          "name": "stdout",
          "text": [
            "[1, 1, 1, 1, 1]\n",
            "[0, 0, 0, 0, 0]\n",
            "15359\n"
          ]
        },
        {
          "output_type": "execute_result",
          "data": {
            "text/plain": [
              "list"
            ]
          },
          "metadata": {},
          "execution_count": 6
        }
      ]
    },
    {
      "cell_type": "code",
      "source": [
        "df_combined = pd.concat([df_pre, df_post], ignore_index=True)"
      ],
      "metadata": {
        "id": "zs6LHTLWu2y3"
      },
      "execution_count": null,
      "outputs": []
    },
    {
      "cell_type": "code",
      "source": [
        "df_combined.shape"
      ],
      "metadata": {
        "colab": {
          "base_uri": "https://localhost:8080/"
        },
        "id": "saWRpV6mu8SK",
        "outputId": "128ad713-38b9-42fb-b520-8f326e91b8fc"
      },
      "execution_count": null,
      "outputs": [
        {
          "output_type": "execute_result",
          "data": {
            "text/plain": [
              "(15359, 16)"
            ]
          },
          "metadata": {},
          "execution_count": 8
        }
      ]
    },
    {
      "cell_type": "code",
      "source": [
        "from sklearn.model_selection import train_test_split\n",
        "x_train,x_test,y_train,y_test=train_test_split(df_combined,labels,test_size=0.2,random_state=42)"
      ],
      "metadata": {
        "id": "qMRr63aIu-N_"
      },
      "execution_count": null,
      "outputs": []
    },
    {
      "cell_type": "code",
      "source": [
        "#feature scaling\n",
        "\n",
        "from sklearn.preprocessing import StandardScaler\n",
        "sc = StandardScaler()\n",
        "x_train = sc.fit_transform(x_train)\n",
        "x_test = sc.transform(x_test)"
      ],
      "metadata": {
        "id": "fNEX0GzaxX9j"
      },
      "execution_count": null,
      "outputs": []
    },
    {
      "cell_type": "markdown",
      "source": [
        "### SVM after scaling data"
      ],
      "metadata": {
        "id": "PhsFtewuvqPN"
      }
    },
    {
      "cell_type": "code",
      "source": [
        "from sklearn.svm import SVC\n",
        "from sklearn.metrics import classification_report, confusion_matrix\n",
        "from sklearn.metrics import accuracy_score\n",
        "\n",
        "# Create and train the SVM model\n",
        "model = SVC(kernel='linear')\n",
        "model.fit(x_train, y_train)\n",
        "\n",
        "# Make predictions\n",
        "y_pred = model.predict(x_test)\n",
        "\n",
        "# Evaluate the model\n",
        "accuracy = accuracy_score(y_test, y_pred)\n",
        "print(f\"Accuracy Score: {accuracy}\")\n",
        "print(confusion_matrix(y_test, y_pred))\n",
        "print(classification_report(y_test, y_pred))"
      ],
      "metadata": {
        "colab": {
          "base_uri": "https://localhost:8080/"
        },
        "id": "n_RifL54vlmn",
        "outputId": "f5395308-f7eb-4efd-c4b6-4fe07cc6efaa"
      },
      "execution_count": null,
      "outputs": [
        {
          "output_type": "stream",
          "name": "stdout",
          "text": [
            "Accuracy Score: 0.583984375\n",
            "[[ 737  813]\n",
            " [ 465 1057]]\n",
            "              precision    recall  f1-score   support\n",
            "\n",
            "           0       0.61      0.48      0.54      1550\n",
            "           1       0.57      0.69      0.62      1522\n",
            "\n",
            "    accuracy                           0.58      3072\n",
            "   macro avg       0.59      0.58      0.58      3072\n",
            "weighted avg       0.59      0.58      0.58      3072\n",
            "\n"
          ]
        }
      ]
    },
    {
      "cell_type": "markdown",
      "source": [
        "# Random Forest after scaling data"
      ],
      "metadata": {
        "id": "qHh63inLwp6L"
      }
    },
    {
      "cell_type": "code",
      "source": [
        "from sklearn.ensemble import RandomForestClassifier\n",
        "rf= RandomForestClassifier(n_estimators=100, random_state=42)\n",
        "rf.fit(x_train, y_train)\n",
        "\n",
        "# Make predictions\n",
        "y_pred_rf_1 =rf.predict(x_test)\n",
        "\n",
        "# Evaluate the model\n",
        "accuracy2 = accuracy_score(y_test, y_pred_rf_1)\n",
        "print(f\"Accuracy Score: {accuracy2}\")\n",
        "print(confusion_matrix(y_test, y_pred_rf_1))\n",
        "print(classification_report(y_test, y_pred_rf_1))"
      ],
      "metadata": {
        "colab": {
          "base_uri": "https://localhost:8080/"
        },
        "id": "YnX_oFGowpEg",
        "outputId": "eb6d6234-83fa-4f7c-b7bc-49ca9d71c54e"
      },
      "execution_count": null,
      "outputs": [
        {
          "output_type": "stream",
          "name": "stdout",
          "text": [
            "Accuracy Score: 0.9869791666666666\n",
            "[[1520   30]\n",
            " [  10 1512]]\n",
            "              precision    recall  f1-score   support\n",
            "\n",
            "           0       0.99      0.98      0.99      1550\n",
            "           1       0.98      0.99      0.99      1522\n",
            "\n",
            "    accuracy                           0.99      3072\n",
            "   macro avg       0.99      0.99      0.99      3072\n",
            "weighted avg       0.99      0.99      0.99      3072\n",
            "\n"
          ]
        }
      ]
    },
    {
      "cell_type": "code",
      "source": [
        "import matplotlib.pyplot as plt\n",
        "import seaborn as sns\n",
        "\n",
        "# Get feature importances and feature names\n",
        "importances = rf.feature_importances_\n",
        "feature_names = df_combined.columns\n",
        "# Sort the importances and corresponding feature names\n",
        "sorted_idx = np.argsort(importances)  # ascending order\n",
        "sorted_importances = importances[sorted_idx]\n",
        "sorted_features = feature_names[sorted_idx]\n",
        "\n",
        "# Plot\n",
        "plt.figure(figsize=(10, 6))\n",
        "sns.barplot(x=sorted_importances, y=sorted_features)\n",
        "plt.title(\"Random Forest Feature Importances (Sorted)\")\n",
        "plt.xlabel(\"Importance Score\")\n",
        "plt.ylabel(\"EEG Lead\")\n",
        "plt.tight_layout()\n",
        "plt.show()\n"
      ],
      "metadata": {
        "colab": {
          "base_uri": "https://localhost:8080/",
          "height": 607
        },
        "id": "K0H2P4hVTC0E",
        "outputId": "8ad82656-85fd-4403-aed5-e2164af80c41"
      },
      "execution_count": null,
      "outputs": [
        {
          "output_type": "display_data",
          "data": {
            "text/plain": [
              "<Figure size 1000x600 with 1 Axes>"
            ],
            "image/png": "[encoded data removed]"
          },
          "metadata": {}
        }
      ]
    },
    {
      "cell_type": "code",
      "source": [
        "!pip install tensorflow"
      ],
      "metadata": {
        "colab": {
          "base_uri": "https://localhost:8080/"
        },
        "id": "uu_FUSaW9p3Z",
        "outputId": "1bd0ce6e-1768-4311-b86b-778a7e2cdd6a"
      },
      "execution_count": null,
      "outputs": [
        {
          "output_type": "stream",
          "name": "stdout",
          "text": [
            "Requirement already satisfied: tensorflow in /usr/local/lib/python3.11/dist-packages (2.18.0)\n",
            "Requirement already satisfied: absl-py>=1.0.0 in /usr/local/lib/python3.11/dist-packages (from tensorflow) (1.4.0)\n",
            "Requirement already satisfied: astunparse>=1.6.0 in /usr/local/lib/python3.11/dist-packages (from tensorflow) (1.6.3)\n",
            "Requirement already satisfied: flatbuffers>=24.3.25 in /usr/local/lib/python3.11/dist-packages (from tensorflow) (25.2.10)\n",
            "Requirement already satisfied: gast!=0.5.0,!=0.5.1,!=0.5.2,>=0.2.1 in /usr/local/lib/python3.11/dist-packages (from tensorflow) (0.6.0)\n",
            "Requirement already satisfied: google-pasta>=0.1.1 in /usr/local/lib/python3.11/dist-packages (from tensorflow) (0.2.0)\n",
            "Requirement already satisfied: libclang>=13.0.0 in /usr/local/lib/python3.11/dist-packages (from tensorflow) (18.1.1)\n",
            "Requirement already satisfied: opt-einsum>=2.3.2 in /usr/local/lib/python3.11/dist-packages (from tensorflow) (3.4.0)\n",
            "Requirement already satisfied: packaging in /usr/local/lib/python3.11/dist-packages (from tensorflow) (24.2)\n",
            "Requirement already satisfied: protobuf!=4.21.0,!=4.21.1,!=4.21.2,!=4.21.3,!=4.21.4,!=4.21.5,<6.0.0dev,>=3.20.3 in /usr/local/lib/python3.11/dist-packages (from tensorflow) (5.29.4)\n",
            "Requirement already satisfied: requests<3,>=2.21.0 in /usr/local/lib/python3.11/dist-packages (from tensorflow) (2.32.3)\n",
            "Requirement already satisfied: setuptools in /usr/local/lib/python3.11/dist-packages (from tensorflow) (75.2.0)\n",
            "Requirement already satisfied: six>=1.12.0 in /usr/local/lib/python3.11/dist-packages (from tensorflow) (1.17.0)\n",
            "Requirement already satisfied: termcolor>=1.1.0 in /usr/local/lib/python3.11/dist-packages (from tensorflow) (3.1.0)\n",
            "Requirement already satisfied: typing-extensions>=3.6.6 in /usr/local/lib/python3.11/dist-packages (from tensorflow) (4.13.2)\n",
            "Requirement already satisfied: wrapt>=1.11.0 in /usr/local/lib/python3.11/dist-packages (from tensorflow) (1.17.2)\n",
            "Requirement already satisfied: grpcio<2.0,>=1.24.3 in /usr/local/lib/python3.11/dist-packages (from tensorflow) (1.71.0)\n",
            "Requirement already satisfied: tensorboard<2.19,>=2.18 in /usr/local/lib/python3.11/dist-packages (from tensorflow) (2.18.0)\n",
            "Requirement already satisfied: keras>=3.5.0 in /usr/local/lib/python3.11/dist-packages (from tensorflow) (3.8.0)\n",
            "Requirement already satisfied: numpy<2.1.0,>=1.26.0 in /usr/local/lib/python3.11/dist-packages (from tensorflow) (2.0.2)\n",
            "Requirement already satisfied: h5py>=3.11.0 in /usr/local/lib/python3.11/dist-packages (from tensorflow) (3.13.0)\n",
            "Requirement already satisfied: ml-dtypes<0.5.0,>=0.4.0 in /usr/local/lib/python3.11/dist-packages (from tensorflow) (0.4.1)\n",
            "Requirement already satisfied: tensorflow-io-gcs-filesystem>=0.23.1 in /usr/local/lib/python3.11/dist-packages (from tensorflow) (0.37.1)\n",
            "Requirement already satisfied: wheel<1.0,>=0.23.0 in /usr/local/lib/python3.11/dist-packages (from astunparse>=1.6.0->tensorflow) (0.45.1)\n",
            "Requirement already satisfied: rich in /usr/local/lib/python3.11/dist-packages (from keras>=3.5.0->tensorflow) (13.9.4)\n",
            "Requirement already satisfied: namex in /usr/local/lib/python3.11/dist-packages (from keras>=3.5.0->tensorflow) (0.0.9)\n",
            "Requirement already satisfied: optree in /usr/local/lib/python3.11/dist-packages (from keras>=3.5.0->tensorflow) (0.15.0)\n",
            "Requirement already satisfied: charset-normalizer<4,>=2 in /usr/local/lib/python3.11/dist-packages (from requests<3,>=2.21.0->tensorflow) (3.4.2)\n",
            "Requirement already satisfied: idna<4,>=2.5 in /usr/local/lib/python3.11/dist-packages (from requests<3,>=2.21.0->tensorflow) (3.10)\n",
            "Requirement already satisfied: urllib3<3,>=1.21.1 in /usr/local/lib/python3.11/dist-packages (from requests<3,>=2.21.0->tensorflow) (2.4.0)\n",
            "Requirement already satisfied: certifi>=2017.4.17 in /usr/local/lib/python3.11/dist-packages (from requests<3,>=2.21.0->tensorflow) (2025.4.26)\n",
            "Requirement already satisfied: markdown>=2.6.8 in /usr/local/lib/python3.11/dist-packages (from tensorboard<2.19,>=2.18->tensorflow) (3.8)\n",
            "Requirement already satisfied: tensorboard-data-server<0.8.0,>=0.7.0 in /usr/local/lib/python3.11/dist-packages (from tensorboard<2.19,>=2.18->tensorflow) (0.7.2)\n",
            "Requirement already satisfied: werkzeug>=1.0.1 in /usr/local/lib/python3.11/dist-packages (from tensorboard<2.19,>=2.18->tensorflow) (3.1.3)\n",
            "Requirement already satisfied: MarkupSafe>=2.1.1 in /usr/local/lib/python3.11/dist-packages (from werkzeug>=1.0.1->tensorboard<2.19,>=2.18->tensorflow) (3.0.2)\n",
            "Requirement already satisfied: markdown-it-py>=2.2.0 in /usr/local/lib/python3.11/dist-packages (from rich->keras>=3.5.0->tensorflow) (3.0.0)\n",
            "Requirement already satisfied: pygments<3.0.0,>=2.13.0 in /usr/local/lib/python3.11/dist-packages (from rich->keras>=3.5.0->tensorflow) (2.19.1)\n",
            "Requirement already satisfied: mdurl~=0.1 in /usr/local/lib/python3.11/dist-packages (from markdown-it-py>=2.2.0->rich->keras>=3.5.0->tensorflow) (0.1.2)\n"
          ]
        }
      ]
    },
    {
      "cell_type": "code",
      "source": [
        "from tensorflow.keras.models import Sequential\n",
        "from tensorflow.keras.layers import Dense\n",
        "from tensorflow.keras.optimizers import Adam"
      ],
      "metadata": {
        "id": "UBhQTGVf9neE"
      },
      "execution_count": null,
      "outputs": []
    },
    {
      "cell_type": "code",
      "source": [
        "model = Sequential()\n",
        "model.add(Dense(16, activation='relu', input_shape=(x_train.shape[1],)))\n",
        "model.add(Dense(8, activation='relu'))\n",
        "model.add(Dense(1, activation='sigmoid'))"
      ],
      "metadata": {
        "colab": {
          "base_uri": "https://localhost:8080/"
        },
        "id": "1_tumC48913o",
        "outputId": "80f6cf78-fa4b-484c-cf9e-4f5101ceb142"
      },
      "execution_count": null,
      "outputs": [
        {
          "output_type": "stream",
          "name": "stderr",
          "text": [
            "/usr/local/lib/python3.11/dist-packages/keras/src/layers/core/dense.py:87: UserWarning: Do not pass an `input_shape`/`input_dim` argument to a layer. When using Sequential models, prefer using an `Input(shape)` object as the first layer in the model instead.\n",
            "  super().__init__(activity_regularizer=activity_regularizer, **kwargs)\n"
          ]
        }
      ]
    },
    {
      "cell_type": "code",
      "source": [
        "model.compile(optimizer=Adam(learning_rate=0.001), loss='binary_crossentropy', metrics=['accuracy'])"
      ],
      "metadata": {
        "id": "4iWBHJlg-NGT"
      },
      "execution_count": null,
      "outputs": []
    },
    {
      "cell_type": "code",
      "source": [
        "y_train = np.array(y_train)\n",
        "y_test = np.array(y_test)\n"
      ],
      "metadata": {
        "id": "2Hf3QKNm--y7"
      },
      "execution_count": null,
      "outputs": []
    },
    {
      "cell_type": "code",
      "source": [
        "history = model.fit(x_train, y_train, epochs=50, batch_size=8, validation_split=0.1, verbose=1)\n"
      ],
      "metadata": {
        "colab": {
          "base_uri": "https://localhost:8080/"
        },
        "id": "w16ARiAc-WwD",
        "outputId": "c774f34f-cbe7-4a45-d74f-c5d05b4511f2"
      },
      "execution_count": null,
      "outputs": [
        {
          "output_type": "stream",
          "name": "stdout",
          "text": [
            "Epoch 1/50\n",
            "\u001b[1m1383/1383\u001b[0m \u001b[32m━━━━━━━━━━━━━━━━━━━━\u001b[0m\u001b[37m\u001b[0m \u001b[1m13s\u001b[0m 7ms/step - accuracy: 0.6206 - loss: 0.6381 - val_accuracy: 0.7893 - val_loss: 0.4609\n",
            "Epoch 2/50\n",
            "\u001b[1m1383/1383\u001b[0m \u001b[32m━━━━━━━━━━━━━━━━━━━━\u001b[0m\u001b[37m\u001b[0m \u001b[1m6s\u001b[0m 4ms/step - accuracy: 0.8171 - loss: 0.3990 - val_accuracy: 0.8397 - val_loss: 0.3555\n",
            "Epoch 3/50\n",
            "\u001b[1m1383/1383\u001b[0m \u001b[32m━━━━━━━━━━━━━━━━━━━━\u001b[0m\u001b[37m\u001b[0m \u001b[1m8s\u001b[0m 2ms/step - accuracy: 0.8637 - loss: 0.3039 - val_accuracy: 0.8519 - val_loss: 0.3197\n",
            "Epoch 4/50\n",
            "\u001b[1m1383/1383\u001b[0m \u001b[32m━━━━━━━━━━━━━━━━━━━━\u001b[0m\u001b[37m\u001b[0m \u001b[1m5s\u001b[0m 2ms/step - accuracy: 0.8750 - loss: 0.2753 - val_accuracy: 0.8755 - val_loss: 0.2980\n",
            "Epoch 5/50\n",
            "\u001b[1m1383/1383\u001b[0m \u001b[32m━━━━━━━━━━━━━━━━━━━━\u001b[0m\u001b[37m\u001b[0m \u001b[1m5s\u001b[0m 2ms/step - accuracy: 0.8960 - loss: 0.2400 - val_accuracy: 0.8690 - val_loss: 0.2989\n",
            "Epoch 6/50\n",
            "\u001b[1m1383/1383\u001b[0m \u001b[32m━━━━━━━━━━━━━━━━━━━━\u001b[0m\u001b[37m\u001b[0m \u001b[1m3s\u001b[0m 2ms/step - accuracy: 0.8944 - loss: 0.2371 - val_accuracy: 0.8918 - val_loss: 0.2770\n",
            "Epoch 7/50\n",
            "\u001b[1m1383/1383\u001b[0m \u001b[32m━━━━━━━━━━━━━━━━━━━━\u001b[0m\u001b[37m\u001b[0m \u001b[1m5s\u001b[0m 2ms/step - accuracy: 0.9088 - loss: 0.2199 - val_accuracy: 0.9007 - val_loss: 0.2635\n",
            "Epoch 8/50\n",
            "\u001b[1m1383/1383\u001b[0m \u001b[32m━━━━━━━━━━━━━━━━━━━━\u001b[0m\u001b[37m\u001b[0m \u001b[1m4s\u001b[0m 3ms/step - accuracy: 0.9131 - loss: 0.2071 - val_accuracy: 0.8999 - val_loss: 0.2581\n",
            "Epoch 9/50\n",
            "\u001b[1m1383/1383\u001b[0m \u001b[32m━━━━━━━━━━━━━━━━━━━━\u001b[0m\u001b[37m\u001b[0m \u001b[1m3s\u001b[0m 2ms/step - accuracy: 0.9122 - loss: 0.2037 - val_accuracy: 0.9064 - val_loss: 0.2519\n",
            "Epoch 10/50\n",
            "\u001b[1m1383/1383\u001b[0m \u001b[32m━━━━━━━━━━━━━━━━━━━━\u001b[0m\u001b[37m\u001b[0m \u001b[1m3s\u001b[0m 2ms/step - accuracy: 0.9146 - loss: 0.2013 - val_accuracy: 0.8926 - val_loss: 0.2576\n",
            "Epoch 11/50\n",
            "\u001b[1m1383/1383\u001b[0m \u001b[32m━━━━━━━━━━━━━━━━━━━━\u001b[0m\u001b[37m\u001b[0m \u001b[1m6s\u001b[0m 3ms/step - accuracy: 0.9159 - loss: 0.1976 - val_accuracy: 0.9089 - val_loss: 0.2432\n",
            "Epoch 12/50\n",
            "\u001b[1m1383/1383\u001b[0m \u001b[32m━━━━━━━━━━━━━━━━━━━━\u001b[0m\u001b[37m\u001b[0m \u001b[1m3s\u001b[0m 2ms/step - accuracy: 0.9209 - loss: 0.1900 - val_accuracy: 0.9154 - val_loss: 0.2357\n",
            "Epoch 13/50\n",
            "\u001b[1m1383/1383\u001b[0m \u001b[32m━━━━━━━━━━━━━━━━━━━━\u001b[0m\u001b[37m\u001b[0m \u001b[1m5s\u001b[0m 2ms/step - accuracy: 0.9258 - loss: 0.1755 - val_accuracy: 0.9154 - val_loss: 0.2272\n",
            "Epoch 14/50\n",
            "\u001b[1m1383/1383\u001b[0m \u001b[32m━━━━━━━━━━━━━━━━━━━━\u001b[0m\u001b[37m\u001b[0m \u001b[1m4s\u001b[0m 3ms/step - accuracy: 0.9245 - loss: 0.1771 - val_accuracy: 0.9129 - val_loss: 0.2437\n",
            "Epoch 15/50\n",
            "\u001b[1m1383/1383\u001b[0m \u001b[32m━━━━━━━━━━━━━━━━━━━━\u001b[0m\u001b[37m\u001b[0m \u001b[1m4s\u001b[0m 2ms/step - accuracy: 0.9220 - loss: 0.1827 - val_accuracy: 0.9048 - val_loss: 0.2542\n",
            "Epoch 16/50\n",
            "\u001b[1m1383/1383\u001b[0m \u001b[32m━━━━━━━━━━━━━━━━━━━━\u001b[0m\u001b[37m\u001b[0m \u001b[1m3s\u001b[0m 2ms/step - accuracy: 0.9266 - loss: 0.1750 - val_accuracy: 0.9113 - val_loss: 0.2319\n",
            "Epoch 17/50\n",
            "\u001b[1m1383/1383\u001b[0m \u001b[32m━━━━━━━━━━━━━━━━━━━━\u001b[0m\u001b[37m\u001b[0m \u001b[1m6s\u001b[0m 3ms/step - accuracy: 0.9227 - loss: 0.1731 - val_accuracy: 0.9129 - val_loss: 0.2282\n",
            "Epoch 18/50\n",
            "\u001b[1m1383/1383\u001b[0m \u001b[32m━━━━━━━━━━━━━━━━━━━━\u001b[0m\u001b[37m\u001b[0m \u001b[1m4s\u001b[0m 2ms/step - accuracy: 0.9327 - loss: 0.1660 - val_accuracy: 0.9105 - val_loss: 0.2391\n",
            "Epoch 19/50\n",
            "\u001b[1m1383/1383\u001b[0m \u001b[32m━━━━━━━━━━━━━━━━━━━━\u001b[0m\u001b[37m\u001b[0m \u001b[1m3s\u001b[0m 2ms/step - accuracy: 0.9318 - loss: 0.1624 - val_accuracy: 0.9129 - val_loss: 0.2377\n",
            "Epoch 20/50\n",
            "\u001b[1m1383/1383\u001b[0m \u001b[32m━━━━━━━━━━━━━━━━━━━━\u001b[0m\u001b[37m\u001b[0m \u001b[1m6s\u001b[0m 3ms/step - accuracy: 0.9316 - loss: 0.1584 - val_accuracy: 0.9138 - val_loss: 0.2343\n",
            "Epoch 21/50\n",
            "\u001b[1m1383/1383\u001b[0m \u001b[32m━━━━━━━━━━━━━━━━━━━━\u001b[0m\u001b[37m\u001b[0m \u001b[1m3s\u001b[0m 2ms/step - accuracy: 0.9303 - loss: 0.1645 - val_accuracy: 0.9194 - val_loss: 0.2282\n",
            "Epoch 22/50\n",
            "\u001b[1m1383/1383\u001b[0m \u001b[32m━━━━━━━━━━━━━━━━━━━━\u001b[0m\u001b[37m\u001b[0m \u001b[1m5s\u001b[0m 2ms/step - accuracy: 0.9362 - loss: 0.1499 - val_accuracy: 0.9105 - val_loss: 0.2320\n",
            "Epoch 23/50\n",
            "\u001b[1m1383/1383\u001b[0m \u001b[32m━━━━━━━━━━━━━━━━━━━━\u001b[0m\u001b[37m\u001b[0m \u001b[1m4s\u001b[0m 3ms/step - accuracy: 0.9309 - loss: 0.1594 - val_accuracy: 0.9211 - val_loss: 0.2169\n",
            "Epoch 24/50\n",
            "\u001b[1m1383/1383\u001b[0m \u001b[32m━━━━━━━━━━━━━━━━━━━━\u001b[0m\u001b[37m\u001b[0m \u001b[1m4s\u001b[0m 2ms/step - accuracy: 0.9261 - loss: 0.1656 - val_accuracy: 0.9178 - val_loss: 0.2377\n",
            "Epoch 25/50\n",
            "\u001b[1m1383/1383\u001b[0m \u001b[32m━━━━━━━━━━━━━━━━━━━━\u001b[0m\u001b[37m\u001b[0m \u001b[1m4s\u001b[0m 3ms/step - accuracy: 0.9301 - loss: 0.1545 - val_accuracy: 0.9203 - val_loss: 0.2304\n",
            "Epoch 26/50\n",
            "\u001b[1m1383/1383\u001b[0m \u001b[32m━━━━━━━━━━━━━━━━━━━━\u001b[0m\u001b[37m\u001b[0m \u001b[1m5s\u001b[0m 3ms/step - accuracy: 0.9341 - loss: 0.1541 - val_accuracy: 0.9203 - val_loss: 0.2273\n",
            "Epoch 27/50\n",
            "\u001b[1m1383/1383\u001b[0m \u001b[32m━━━━━━━━━━━━━━━━━━━━\u001b[0m\u001b[37m\u001b[0m \u001b[1m4s\u001b[0m 2ms/step - accuracy: 0.9390 - loss: 0.1526 - val_accuracy: 0.9178 - val_loss: 0.2274\n",
            "Epoch 28/50\n",
            "\u001b[1m1383/1383\u001b[0m \u001b[32m━━━━━━━━━━━━━━━━━━━━\u001b[0m\u001b[37m\u001b[0m \u001b[1m5s\u001b[0m 2ms/step - accuracy: 0.9372 - loss: 0.1485 - val_accuracy: 0.9170 - val_loss: 0.2459\n",
            "Epoch 29/50\n",
            "\u001b[1m1383/1383\u001b[0m \u001b[32m━━━━━━━━━━━━━━━━━━━━\u001b[0m\u001b[37m\u001b[0m \u001b[1m5s\u001b[0m 2ms/step - accuracy: 0.9394 - loss: 0.1501 - val_accuracy: 0.9203 - val_loss: 0.2287\n",
            "Epoch 30/50\n",
            "\u001b[1m1383/1383\u001b[0m \u001b[32m━━━━━━━━━━━━━━━━━━━━\u001b[0m\u001b[37m\u001b[0m \u001b[1m5s\u001b[0m 2ms/step - accuracy: 0.9360 - loss: 0.1460 - val_accuracy: 0.9219 - val_loss: 0.2376\n",
            "Epoch 31/50\n",
            "\u001b[1m1383/1383\u001b[0m \u001b[32m━━━━━━━━━━━━━━━━━━━━\u001b[0m\u001b[37m\u001b[0m \u001b[1m6s\u001b[0m 2ms/step - accuracy: 0.9385 - loss: 0.1504 - val_accuracy: 0.9178 - val_loss: 0.2134\n",
            "Epoch 32/50\n",
            "\u001b[1m1383/1383\u001b[0m \u001b[32m━━━━━━━━━━━━━━━━━━━━\u001b[0m\u001b[37m\u001b[0m \u001b[1m5s\u001b[0m 2ms/step - accuracy: 0.9347 - loss: 0.1497 - val_accuracy: 0.9251 - val_loss: 0.2169\n",
            "Epoch 33/50\n",
            "\u001b[1m1383/1383\u001b[0m \u001b[32m━━━━━━━━━━━━━━━━━━━━\u001b[0m\u001b[37m\u001b[0m \u001b[1m6s\u001b[0m 3ms/step - accuracy: 0.9418 - loss: 0.1399 - val_accuracy: 0.9105 - val_loss: 0.2496\n",
            "Epoch 34/50\n",
            "\u001b[1m1383/1383\u001b[0m \u001b[32m━━━━━━━━━━━━━━━━━━━━\u001b[0m\u001b[37m\u001b[0m \u001b[1m4s\u001b[0m 2ms/step - accuracy: 0.9401 - loss: 0.1431 - val_accuracy: 0.9235 - val_loss: 0.2179\n",
            "Epoch 35/50\n",
            "\u001b[1m1383/1383\u001b[0m \u001b[32m━━━━━━━━━━━━━━━━━━━━\u001b[0m\u001b[37m\u001b[0m \u001b[1m3s\u001b[0m 2ms/step - accuracy: 0.9378 - loss: 0.1437 - val_accuracy: 0.9194 - val_loss: 0.2368\n",
            "Epoch 36/50\n",
            "\u001b[1m1383/1383\u001b[0m \u001b[32m━━━━━━━━━━━━━━━━━━━━\u001b[0m\u001b[37m\u001b[0m \u001b[1m6s\u001b[0m 3ms/step - accuracy: 0.9401 - loss: 0.1387 - val_accuracy: 0.9178 - val_loss: 0.2265\n",
            "Epoch 37/50\n",
            "\u001b[1m1383/1383\u001b[0m \u001b[32m━━━━━━━━━━━━━━━━━━━━\u001b[0m\u001b[37m\u001b[0m \u001b[1m3s\u001b[0m 2ms/step - accuracy: 0.9386 - loss: 0.1438 - val_accuracy: 0.9219 - val_loss: 0.2334\n",
            "Epoch 38/50\n",
            "\u001b[1m1383/1383\u001b[0m \u001b[32m━━━━━━━━━━━━━━━━━━━━\u001b[0m\u001b[37m\u001b[0m \u001b[1m3s\u001b[0m 2ms/step - accuracy: 0.9456 - loss: 0.1349 - val_accuracy: 0.9186 - val_loss: 0.2219\n",
            "Epoch 39/50\n",
            "\u001b[1m1383/1383\u001b[0m \u001b[32m━━━━━━━━━━━━━━━━━━━━\u001b[0m\u001b[37m\u001b[0m \u001b[1m6s\u001b[0m 3ms/step - accuracy: 0.9414 - loss: 0.1382 - val_accuracy: 0.9129 - val_loss: 0.2331\n",
            "Epoch 40/50\n",
            "\u001b[1m1383/1383\u001b[0m \u001b[32m━━━━━━━━━━━━━━━━━━━━\u001b[0m\u001b[37m\u001b[0m \u001b[1m4s\u001b[0m 2ms/step - accuracy: 0.9385 - loss: 0.1475 - val_accuracy: 0.9121 - val_loss: 0.2434\n",
            "Epoch 41/50\n",
            "\u001b[1m1383/1383\u001b[0m \u001b[32m━━━━━━━━━━━━━━━━━━━━\u001b[0m\u001b[37m\u001b[0m \u001b[1m5s\u001b[0m 2ms/step - accuracy: 0.9412 - loss: 0.1378 - val_accuracy: 0.9178 - val_loss: 0.2338\n",
            "Epoch 42/50\n",
            "\u001b[1m1383/1383\u001b[0m \u001b[32m━━━━━━━━━━━━━━━━━━━━\u001b[0m\u001b[37m\u001b[0m \u001b[1m5s\u001b[0m 2ms/step - accuracy: 0.9415 - loss: 0.1384 - val_accuracy: 0.9219 - val_loss: 0.2242\n",
            "Epoch 43/50\n",
            "\u001b[1m1383/1383\u001b[0m \u001b[32m━━━━━━━━━━━━━━━━━━━━\u001b[0m\u001b[37m\u001b[0m \u001b[1m5s\u001b[0m 2ms/step - accuracy: 0.9414 - loss: 0.1371 - val_accuracy: 0.9219 - val_loss: 0.2328\n",
            "Epoch 44/50\n",
            "\u001b[1m1383/1383\u001b[0m \u001b[32m━━━━━━━━━━━━━━━━━━━━\u001b[0m\u001b[37m\u001b[0m \u001b[1m6s\u001b[0m 3ms/step - accuracy: 0.9403 - loss: 0.1414 - val_accuracy: 0.9211 - val_loss: 0.2101\n",
            "Epoch 45/50\n",
            "\u001b[1m1383/1383\u001b[0m \u001b[32m━━━━━━━━━━━━━━━━━━━━\u001b[0m\u001b[37m\u001b[0m \u001b[1m4s\u001b[0m 2ms/step - accuracy: 0.9444 - loss: 0.1320 - val_accuracy: 0.9251 - val_loss: 0.2253\n",
            "Epoch 46/50\n",
            "\u001b[1m1383/1383\u001b[0m \u001b[32m━━━━━━━━━━━━━━━━━━━━\u001b[0m\u001b[37m\u001b[0m \u001b[1m3s\u001b[0m 2ms/step - accuracy: 0.9452 - loss: 0.1333 - val_accuracy: 0.9186 - val_loss: 0.2209\n",
            "Epoch 47/50\n",
            "\u001b[1m1383/1383\u001b[0m \u001b[32m━━━━━━━━━━━━━━━━━━━━\u001b[0m\u001b[37m\u001b[0m \u001b[1m6s\u001b[0m 3ms/step - accuracy: 0.9391 - loss: 0.1339 - val_accuracy: 0.9203 - val_loss: 0.2189\n",
            "Epoch 48/50\n",
            "\u001b[1m1383/1383\u001b[0m \u001b[32m━━━━━━━━━━━━━━━━━━━━\u001b[0m\u001b[37m\u001b[0m \u001b[1m4s\u001b[0m 2ms/step - accuracy: 0.9460 - loss: 0.1300 - val_accuracy: 0.9251 - val_loss: 0.2267\n",
            "Epoch 49/50\n",
            "\u001b[1m1383/1383\u001b[0m \u001b[32m━━━━━━━━━━━━━━━━━━━━\u001b[0m\u001b[37m\u001b[0m \u001b[1m3s\u001b[0m 2ms/step - accuracy: 0.9491 - loss: 0.1265 - val_accuracy: 0.9227 - val_loss: 0.2065\n",
            "Epoch 50/50\n",
            "\u001b[1m1383/1383\u001b[0m \u001b[32m━━━━━━━━━━━━━━━━━━━━\u001b[0m\u001b[37m\u001b[0m \u001b[1m4s\u001b[0m 3ms/step - accuracy: 0.9449 - loss: 0.1318 - val_accuracy: 0.9260 - val_loss: 0.2159\n"
          ]
        }
      ]
    },
    {
      "cell_type": "code",
      "source": [
        "loss, accuracy = model.evaluate(x_test, y_test)\n",
        "print(f\"\\nTest Accuracy: {accuracy:.4f}\")"
      ],
      "metadata": {
        "colab": {
          "base_uri": "https://localhost:8080/"
        },
        "id": "DarJU8OZ_Hk2",
        "outputId": "c3ec6b6d-8ba5-40ba-b980-c8c0516af191"
      },
      "execution_count": null,
      "outputs": [
        {
          "output_type": "stream",
          "name": "stdout",
          "text": [
            "\u001b[1m96/96\u001b[0m \u001b[32m━━━━━━━━━━━━━━━━━━━━\u001b[0m\u001b[37m\u001b[0m \u001b[1m0s\u001b[0m 2ms/step - accuracy: 0.9235 - loss: 0.1877\n",
            "\n",
            "Test Accuracy: 0.9287\n"
          ]
        }
      ]
    },
    {
      "cell_type": "code",
      "source": [
        "y_pred = (model.predict(x_test) > 0.5).astype(int)\n",
        "print(\"\\nClassification Report:\")\n",
        "print(classification_report(y_test, y_pred))"
      ],
      "metadata": {
        "colab": {
          "base_uri": "https://localhost:8080/"
        },
        "id": "RYKP3Slu_Jbr",
        "outputId": "1e7a6a3e-d352-4346-b564-2056f52ad2c9"
      },
      "execution_count": null,
      "outputs": [
        {
          "output_type": "stream",
          "name": "stdout",
          "text": [
            "\u001b[1m96/96\u001b[0m \u001b[32m━━━━━━━━━━━━━━━━━━━━\u001b[0m\u001b[37m\u001b[0m \u001b[1m0s\u001b[0m 1ms/step\n",
            "\n",
            "Classification Report:\n",
            "              precision    recall  f1-score   support\n",
            "\n",
            "           0       0.94      0.92      0.93      1550\n",
            "           1       0.92      0.94      0.93      1522\n",
            "\n",
            "    accuracy                           0.93      3072\n",
            "   macro avg       0.93      0.93      0.93      3072\n",
            "weighted avg       0.93      0.93      0.93      3072\n",
            "\n"
          ]
        }
      ]
    },
    {
      "cell_type": "markdown",
      "source": [
        "# SVM on scaled data post PCA, n=8"
      ],
      "metadata": {
        "id": "NOicgRlfxogA"
      }
    },
    {
      "cell_type": "code",
      "source": [
        "from sklearn.decomposition import PCA\n",
        "pca = PCA(n_components=8)\n",
        "x_train_pca = pca.fit_transform(x_train)\n",
        "x_test_pca = pca.transform(x_test)"
      ],
      "metadata": {
        "id": "jRRk4hU0xwTz"
      },
      "execution_count": null,
      "outputs": []
    },
    {
      "cell_type": "code",
      "source": [
        "pca_columns = ['PC1', 'PC2', 'PC3', 'PC4', 'PC5','PC6','PC7','PC8']\n",
        "train_pca_df = pd.DataFrame(data=x_train_pca, columns=pca_columns)\n",
        "test_pca_df = pd.DataFrame(data=x_test_pca, columns=pca_columns)"
      ],
      "metadata": {
        "id": "zsQ9jLUYx1p5"
      },
      "execution_count": null,
      "outputs": []
    },
    {
      "cell_type": "code",
      "source": [
        "# Explained Variance Ratio\n",
        "print(\"Explained variance ratio:\", pca.explained_variance_ratio_)"
      ],
      "metadata": {
        "colab": {
          "base_uri": "https://localhost:8080/"
        },
        "id": "RN44EvT6zeLN",
        "outputId": "7a82a30c-9fe3-4620-c394-63ff80cc126e"
      },
      "execution_count": null,
      "outputs": [
        {
          "output_type": "stream",
          "name": "stdout",
          "text": [
            "Explained variance ratio: [0.23602324 0.14825974 0.12496685 0.10351656 0.0843048  0.06712971\n",
            " 0.05292614 0.04908064]\n"
          ]
        }
      ]
    },
    {
      "cell_type": "code",
      "source": [
        "# Create and train the SVM model\n",
        "model2 = SVC(kernel='linear')\n",
        "model2.fit(train_pca_df, y_train)\n",
        "\n",
        "# Make predictions\n",
        "y_pred_svm2 = model2.predict(test_pca_df)\n",
        "\n",
        "# Evaluate the model\n",
        "accuracy3 = accuracy_score(y_test, y_pred_svm2)\n",
        "print(f\"Accuracy Score: {accuracy3}\")\n",
        "print(confusion_matrix(y_test, y_pred_svm2))\n",
        "print(classification_report(y_test, y_pred_svm2))"
      ],
      "metadata": {
        "colab": {
          "base_uri": "https://localhost:8080/"
        },
        "id": "zkC_7ZGLzkeN",
        "outputId": "237d621b-52e6-4b61-c348-db12d5cbd773"
      },
      "execution_count": null,
      "outputs": [
        {
          "output_type": "stream",
          "name": "stdout",
          "text": [
            "Accuracy Score: 0.5403645833333334\n",
            "[[682 868]\n",
            " [544 978]]\n",
            "              precision    recall  f1-score   support\n",
            "\n",
            "           0       0.56      0.44      0.49      1550\n",
            "           1       0.53      0.64      0.58      1522\n",
            "\n",
            "    accuracy                           0.54      3072\n",
            "   macro avg       0.54      0.54      0.54      3072\n",
            "weighted avg       0.54      0.54      0.54      3072\n",
            "\n"
          ]
        }
      ]
    },
    {
      "cell_type": "code",
      "source": [
        "rf2= RandomForestClassifier(n_estimators=100, random_state=42)\n",
        "rf2.fit(train_pca_df, y_train)\n",
        "\n",
        "# Make predictions\n",
        "y_pred_rf2 =rf2.predict(test_pca_df)\n",
        "\n",
        "# Evaluate the model\n",
        "accuracy4 = accuracy_score(y_test, y_pred_rf2)\n",
        "print(f\"Accuracy Score: {accuracy4}\")\n",
        "print(confusion_matrix(y_test, y_pred_rf2))\n",
        "print(classification_report(y_test, y_pred_rf2))"
      ],
      "metadata": {
        "colab": {
          "base_uri": "https://localhost:8080/"
        },
        "id": "gAufH0Cy0Qj7",
        "outputId": "2a3a5a7e-0336-4f5b-ce4a-c0f44c82ddff"
      },
      "execution_count": null,
      "outputs": [
        {
          "output_type": "stream",
          "name": "stdout",
          "text": [
            "Accuracy Score: 0.9518229166666666\n",
            "[[1471   79]\n",
            " [  69 1453]]\n",
            "              precision    recall  f1-score   support\n",
            "\n",
            "           0       0.96      0.95      0.95      1550\n",
            "           1       0.95      0.95      0.95      1522\n",
            "\n",
            "    accuracy                           0.95      3072\n",
            "   macro avg       0.95      0.95      0.95      3072\n",
            "weighted avg       0.95      0.95      0.95      3072\n",
            "\n"
          ]
        }
      ]
    },
    {
      "cell_type": "code",
      "source": [
        "importances = rf2.feature_importances_\n",
        "sns.barplot(x=importances, y=pca_columns)"
      ],
      "metadata": {
        "colab": {
          "base_uri": "https://localhost:8080/",
          "height": 448
        },
        "id": "eUv3cA33RsaI",
        "outputId": "f38bf190-f93c-4cb4-ab9d-f75ae564e656"
      },
      "execution_count": null,
      "outputs": [
        {
          "output_type": "execute_result",
          "data": {
            "text/plain": [
              "<Axes: >"
            ]
          },
          "metadata": {},
          "execution_count": 27
        },
        {
          "output_type": "display_data",
          "data": {
            "text/plain": [
              "<Figure size 640x480 with 1 Axes>"
            ],
            "image/png": "[encoded data removed]"
          },
          "metadata": {}
        }
      ]
    },
    {
      "cell_type": "code",
      "source": [
        "nnmodel2 = Sequential()\n",
        "nnmodel2.add(Dense(16, activation='relu', input_shape=(train_pca_df.shape[1],)))\n",
        "nnmodel2.add(Dense(8, activation='relu'))\n",
        "nnmodel2.add(Dense(1, activation='sigmoid'))\n",
        "nnmodel2.compile(optimizer=Adam(learning_rate=0.001), loss='binary_crossentropy', metrics=['accuracy'])\n"
      ],
      "metadata": {
        "colab": {
          "base_uri": "https://localhost:8080/"
        },
        "id": "1eB0NPcWA0bu",
        "outputId": "2ef2c7d3-e4bb-4068-aa41-716e51d52d8c"
      },
      "execution_count": null,
      "outputs": [
        {
          "output_type": "stream",
          "name": "stderr",
          "text": [
            "/usr/local/lib/python3.11/dist-packages/keras/src/layers/core/dense.py:87: UserWarning: Do not pass an `input_shape`/`input_dim` argument to a layer. When using Sequential models, prefer using an `Input(shape)` object as the first layer in the model instead.\n",
            "  super().__init__(activity_regularizer=activity_regularizer, **kwargs)\n"
          ]
        }
      ]
    },
    {
      "cell_type": "code",
      "source": [
        "y_train = np.array(y_train)\n",
        "y_test = np.array(y_test)"
      ],
      "metadata": {
        "id": "2cwQMWYSKBbl"
      },
      "execution_count": null,
      "outputs": []
    },
    {
      "cell_type": "code",
      "source": [
        "history = nnmodel2.fit(train_pca_df, y_train, epochs=50, batch_size=8, validation_split=0.1, verbose=1)"
      ],
      "metadata": {
        "colab": {
          "base_uri": "https://localhost:8080/"
        },
        "id": "jNMGQmqoKEpB",
        "outputId": "872bff28-3294-4447-b7b8-98d100521009"
      },
      "execution_count": null,
      "outputs": [
        {
          "output_type": "stream",
          "name": "stdout",
          "text": [
            "Epoch 1/50\n",
            "\u001b[1m1383/1383\u001b[0m \u001b[32m━━━━━━━━━━━━━━━━━━━━\u001b[0m\u001b[37m\u001b[0m \u001b[1m6s\u001b[0m 3ms/step - accuracy: 0.5710 - loss: 0.6833 - val_accuracy: 0.7022 - val_loss: 0.5754\n",
            "Epoch 2/50\n",
            "\u001b[1m1383/1383\u001b[0m \u001b[32m━━━━━━━━━━━━━━━━━━━━\u001b[0m\u001b[37m\u001b[0m \u001b[1m4s\u001b[0m 3ms/step - accuracy: 0.7342 - loss: 0.5170 - val_accuracy: 0.7526 - val_loss: 0.4951\n",
            "Epoch 3/50\n",
            "\u001b[1m1383/1383\u001b[0m \u001b[32m━━━━━━━━━━━━━━━━━━━━\u001b[0m\u001b[37m\u001b[0m \u001b[1m5s\u001b[0m 3ms/step - accuracy: 0.7683 - loss: 0.4547 - val_accuracy: 0.7445 - val_loss: 0.4778\n",
            "Epoch 4/50\n",
            "\u001b[1m1383/1383\u001b[0m \u001b[32m━━━━━━━━━━━━━━━━━━━━\u001b[0m\u001b[37m\u001b[0m \u001b[1m3s\u001b[0m 2ms/step - accuracy: 0.7750 - loss: 0.4429 - val_accuracy: 0.7624 - val_loss: 0.4668\n",
            "Epoch 5/50\n",
            "\u001b[1m1383/1383\u001b[0m \u001b[32m━━━━━━━━━━━━━━━━━━━━\u001b[0m\u001b[37m\u001b[0m \u001b[1m3s\u001b[0m 2ms/step - accuracy: 0.7987 - loss: 0.4147 - val_accuracy: 0.7803 - val_loss: 0.4505\n",
            "Epoch 6/50\n",
            "\u001b[1m1383/1383\u001b[0m \u001b[32m━━━━━━━━━━━━━━━━━━━━\u001b[0m\u001b[37m\u001b[0m \u001b[1m3s\u001b[0m 2ms/step - accuracy: 0.7987 - loss: 0.4020 - val_accuracy: 0.7811 - val_loss: 0.4458\n",
            "Epoch 7/50\n",
            "\u001b[1m1383/1383\u001b[0m \u001b[32m━━━━━━━━━━━━━━━━━━━━\u001b[0m\u001b[37m\u001b[0m \u001b[1m5s\u001b[0m 2ms/step - accuracy: 0.8058 - loss: 0.3984 - val_accuracy: 0.7925 - val_loss: 0.4344\n",
            "Epoch 8/50\n",
            "\u001b[1m1383/1383\u001b[0m \u001b[32m━━━━━━━━━━━━━━━━━━━━\u001b[0m\u001b[37m\u001b[0m \u001b[1m3s\u001b[0m 2ms/step - accuracy: 0.8179 - loss: 0.3842 - val_accuracy: 0.7974 - val_loss: 0.4233\n",
            "Epoch 9/50\n",
            "\u001b[1m1383/1383\u001b[0m \u001b[32m━━━━━━━━━━━━━━━━━━━━\u001b[0m\u001b[37m\u001b[0m \u001b[1m3s\u001b[0m 2ms/step - accuracy: 0.8192 - loss: 0.3760 - val_accuracy: 0.8063 - val_loss: 0.4241\n",
            "Epoch 10/50\n",
            "\u001b[1m1383/1383\u001b[0m \u001b[32m━━━━━━━━━━━━━━━━━━━━\u001b[0m\u001b[37m\u001b[0m \u001b[1m5s\u001b[0m 2ms/step - accuracy: 0.8258 - loss: 0.3715 - val_accuracy: 0.8129 - val_loss: 0.4139\n",
            "Epoch 11/50\n",
            "\u001b[1m1383/1383\u001b[0m \u001b[32m━━━━━━━━━━━━━━━━━━━━\u001b[0m\u001b[37m\u001b[0m \u001b[1m3s\u001b[0m 2ms/step - accuracy: 0.8284 - loss: 0.3614 - val_accuracy: 0.8129 - val_loss: 0.4137\n",
            "Epoch 12/50\n",
            "\u001b[1m1383/1383\u001b[0m \u001b[32m━━━━━━━━━━━━━━━━━━━━\u001b[0m\u001b[37m\u001b[0m \u001b[1m6s\u001b[0m 3ms/step - accuracy: 0.8340 - loss: 0.3526 - val_accuracy: 0.8226 - val_loss: 0.3988\n",
            "Epoch 13/50\n",
            "\u001b[1m1383/1383\u001b[0m \u001b[32m━━━━━━━━━━━━━━━━━━━━\u001b[0m\u001b[37m\u001b[0m \u001b[1m3s\u001b[0m 2ms/step - accuracy: 0.8287 - loss: 0.3597 - val_accuracy: 0.8186 - val_loss: 0.3955\n",
            "Epoch 14/50\n",
            "\u001b[1m1383/1383\u001b[0m \u001b[32m━━━━━━━━━━━━━━━━━━━━\u001b[0m\u001b[37m\u001b[0m \u001b[1m3s\u001b[0m 2ms/step - accuracy: 0.8325 - loss: 0.3575 - val_accuracy: 0.8161 - val_loss: 0.3916\n",
            "Epoch 15/50\n",
            "\u001b[1m1383/1383\u001b[0m \u001b[32m━━━━━━━━━━━━━━━━━━━━\u001b[0m\u001b[37m\u001b[0m \u001b[1m6s\u001b[0m 2ms/step - accuracy: 0.8250 - loss: 0.3563 - val_accuracy: 0.8210 - val_loss: 0.3924\n",
            "Epoch 16/50\n",
            "\u001b[1m1383/1383\u001b[0m \u001b[32m━━━━━━━━━━━━━━━━━━━━\u001b[0m\u001b[37m\u001b[0m \u001b[1m5s\u001b[0m 2ms/step - accuracy: 0.8380 - loss: 0.3461 - val_accuracy: 0.8194 - val_loss: 0.3940\n",
            "Epoch 17/50\n",
            "\u001b[1m1383/1383\u001b[0m \u001b[32m━━━━━━━━━━━━━━━━━━━━\u001b[0m\u001b[37m\u001b[0m \u001b[1m3s\u001b[0m 2ms/step - accuracy: 0.8371 - loss: 0.3412 - val_accuracy: 0.8202 - val_loss: 0.3887\n",
            "Epoch 18/50\n",
            "\u001b[1m1383/1383\u001b[0m \u001b[32m━━━━━━━━━━━━━━━━━━━━\u001b[0m\u001b[37m\u001b[0m \u001b[1m6s\u001b[0m 3ms/step - accuracy: 0.8389 - loss: 0.3408 - val_accuracy: 0.8153 - val_loss: 0.3840\n",
            "Epoch 19/50\n",
            "\u001b[1m1383/1383\u001b[0m \u001b[32m━━━━━━━━━━━━━━━━━━━━\u001b[0m\u001b[37m\u001b[0m \u001b[1m4s\u001b[0m 2ms/step - accuracy: 0.8408 - loss: 0.3384 - val_accuracy: 0.8145 - val_loss: 0.4015\n",
            "Epoch 20/50\n",
            "\u001b[1m1383/1383\u001b[0m \u001b[32m━━━━━━━━━━━━━━━━━━━━\u001b[0m\u001b[37m\u001b[0m \u001b[1m3s\u001b[0m 2ms/step - accuracy: 0.8450 - loss: 0.3368 - val_accuracy: 0.8186 - val_loss: 0.3969\n",
            "Epoch 21/50\n",
            "\u001b[1m1383/1383\u001b[0m \u001b[32m━━━━━━━━━━━━━━━━━━━━\u001b[0m\u001b[37m\u001b[0m \u001b[1m4s\u001b[0m 3ms/step - accuracy: 0.8406 - loss: 0.3329 - val_accuracy: 0.8194 - val_loss: 0.3962\n",
            "Epoch 22/50\n",
            "\u001b[1m1383/1383\u001b[0m \u001b[32m━━━━━━━━━━━━━━━━━━━━\u001b[0m\u001b[37m\u001b[0m \u001b[1m4s\u001b[0m 2ms/step - accuracy: 0.8361 - loss: 0.3409 - val_accuracy: 0.8194 - val_loss: 0.3923\n",
            "Epoch 23/50\n",
            "\u001b[1m1383/1383\u001b[0m \u001b[32m━━━━━━━━━━━━━━━━━━━━\u001b[0m\u001b[37m\u001b[0m \u001b[1m3s\u001b[0m 2ms/step - accuracy: 0.8434 - loss: 0.3336 - val_accuracy: 0.8218 - val_loss: 0.3829\n",
            "Epoch 24/50\n",
            "\u001b[1m1383/1383\u001b[0m \u001b[32m━━━━━━━━━━━━━━━━━━━━\u001b[0m\u001b[37m\u001b[0m \u001b[1m3s\u001b[0m 2ms/step - accuracy: 0.8435 - loss: 0.3277 - val_accuracy: 0.8177 - val_loss: 0.3906\n",
            "Epoch 25/50\n",
            "\u001b[1m1383/1383\u001b[0m \u001b[32m━━━━━━━━━━━━━━━━━━━━\u001b[0m\u001b[37m\u001b[0m \u001b[1m4s\u001b[0m 3ms/step - accuracy: 0.8450 - loss: 0.3296 - val_accuracy: 0.8202 - val_loss: 0.3944\n",
            "Epoch 26/50\n",
            "\u001b[1m1383/1383\u001b[0m \u001b[32m━━━━━━━━━━━━━━━━━━━━\u001b[0m\u001b[37m\u001b[0m \u001b[1m4s\u001b[0m 2ms/step - accuracy: 0.8462 - loss: 0.3287 - val_accuracy: 0.8161 - val_loss: 0.3852\n",
            "Epoch 27/50\n",
            "\u001b[1m1383/1383\u001b[0m \u001b[32m━━━━━━━━━━━━━━━━━━━━\u001b[0m\u001b[37m\u001b[0m \u001b[1m5s\u001b[0m 2ms/step - accuracy: 0.8389 - loss: 0.3322 - val_accuracy: 0.8234 - val_loss: 0.3828\n",
            "Epoch 28/50\n",
            "\u001b[1m1383/1383\u001b[0m \u001b[32m━━━━━━━━━━━━━━━━━━━━\u001b[0m\u001b[37m\u001b[0m \u001b[1m5s\u001b[0m 2ms/step - accuracy: 0.8444 - loss: 0.3310 - val_accuracy: 0.8161 - val_loss: 0.3948\n",
            "Epoch 29/50\n",
            "\u001b[1m1383/1383\u001b[0m \u001b[32m━━━━━━━━━━━━━━━━━━━━\u001b[0m\u001b[37m\u001b[0m \u001b[1m3s\u001b[0m 2ms/step - accuracy: 0.8456 - loss: 0.3266 - val_accuracy: 0.8137 - val_loss: 0.3951\n",
            "Epoch 30/50\n",
            "\u001b[1m1383/1383\u001b[0m \u001b[32m━━━━━━━━━━━━━━━━━━━━\u001b[0m\u001b[37m\u001b[0m \u001b[1m6s\u001b[0m 2ms/step - accuracy: 0.8461 - loss: 0.3289 - val_accuracy: 0.8226 - val_loss: 0.3834\n",
            "Epoch 31/50\n",
            "\u001b[1m1383/1383\u001b[0m \u001b[32m━━━━━━━━━━━━━━━━━━━━\u001b[0m\u001b[37m\u001b[0m \u001b[1m4s\u001b[0m 2ms/step - accuracy: 0.8417 - loss: 0.3288 - val_accuracy: 0.8137 - val_loss: 0.3986\n",
            "Epoch 32/50\n",
            "\u001b[1m1383/1383\u001b[0m \u001b[32m━━━━━━━━━━━━━━━━━━━━\u001b[0m\u001b[37m\u001b[0m \u001b[1m5s\u001b[0m 2ms/step - accuracy: 0.8500 - loss: 0.3185 - val_accuracy: 0.8202 - val_loss: 0.3743\n",
            "Epoch 33/50\n",
            "\u001b[1m1383/1383\u001b[0m \u001b[32m━━━━━━━━━━━━━━━━━━━━\u001b[0m\u001b[37m\u001b[0m \u001b[1m3s\u001b[0m 2ms/step - accuracy: 0.8404 - loss: 0.3269 - val_accuracy: 0.8234 - val_loss: 0.3755\n",
            "Epoch 34/50\n",
            "\u001b[1m1383/1383\u001b[0m \u001b[32m━━━━━━━━━━━━━━━━━━━━\u001b[0m\u001b[37m\u001b[0m \u001b[1m5s\u001b[0m 2ms/step - accuracy: 0.8531 - loss: 0.3200 - val_accuracy: 0.8218 - val_loss: 0.3723\n",
            "Epoch 35/50\n",
            "\u001b[1m1383/1383\u001b[0m \u001b[32m━━━━━━━━━━━━━━━━━━━━\u001b[0m\u001b[37m\u001b[0m \u001b[1m5s\u001b[0m 2ms/step - accuracy: 0.8459 - loss: 0.3182 - val_accuracy: 0.8340 - val_loss: 0.3689\n",
            "Epoch 36/50\n",
            "\u001b[1m1383/1383\u001b[0m \u001b[32m━━━━━━━━━━━━━━━━━━━━\u001b[0m\u001b[37m\u001b[0m \u001b[1m4s\u001b[0m 3ms/step - accuracy: 0.8474 - loss: 0.3236 - val_accuracy: 0.8251 - val_loss: 0.3702\n",
            "Epoch 37/50\n",
            "\u001b[1m1383/1383\u001b[0m \u001b[32m━━━━━━━━━━━━━━━━━━━━\u001b[0m\u001b[37m\u001b[0m \u001b[1m4s\u001b[0m 2ms/step - accuracy: 0.8482 - loss: 0.3215 - val_accuracy: 0.8332 - val_loss: 0.3662\n",
            "Epoch 38/50\n",
            "\u001b[1m1383/1383\u001b[0m \u001b[32m━━━━━━━━━━━━━━━━━━━━\u001b[0m\u001b[37m\u001b[0m \u001b[1m5s\u001b[0m 2ms/step - accuracy: 0.8520 - loss: 0.3109 - val_accuracy: 0.8299 - val_loss: 0.3720\n",
            "Epoch 39/50\n",
            "\u001b[1m1383/1383\u001b[0m \u001b[32m━━━━━━━━━━━━━━━━━━━━\u001b[0m\u001b[37m\u001b[0m \u001b[1m5s\u001b[0m 2ms/step - accuracy: 0.8558 - loss: 0.3138 - val_accuracy: 0.8234 - val_loss: 0.3793\n",
            "Epoch 40/50\n",
            "\u001b[1m1383/1383\u001b[0m \u001b[32m━━━━━━━━━━━━━━━━━━━━\u001b[0m\u001b[37m\u001b[0m \u001b[1m5s\u001b[0m 2ms/step - accuracy: 0.8473 - loss: 0.3195 - val_accuracy: 0.8316 - val_loss: 0.3666\n",
            "Epoch 41/50\n",
            "\u001b[1m1383/1383\u001b[0m \u001b[32m━━━━━━━━━━━━━━━━━━━━\u001b[0m\u001b[37m\u001b[0m \u001b[1m3s\u001b[0m 2ms/step - accuracy: 0.8571 - loss: 0.3068 - val_accuracy: 0.8251 - val_loss: 0.3801\n",
            "Epoch 42/50\n",
            "\u001b[1m1383/1383\u001b[0m \u001b[32m━━━━━━━━━━━━━━━━━━━━\u001b[0m\u001b[37m\u001b[0m \u001b[1m5s\u001b[0m 2ms/step - accuracy: 0.8600 - loss: 0.3112 - val_accuracy: 0.8324 - val_loss: 0.3676\n",
            "Epoch 43/50\n",
            "\u001b[1m1383/1383\u001b[0m \u001b[32m━━━━━━━━━━━━━━━━━━━━\u001b[0m\u001b[37m\u001b[0m \u001b[1m5s\u001b[0m 2ms/step - accuracy: 0.8530 - loss: 0.3165 - val_accuracy: 0.8324 - val_loss: 0.3656\n",
            "Epoch 44/50\n",
            "\u001b[1m1383/1383\u001b[0m \u001b[32m━━━━━━━━━━━━━━━━━━━━\u001b[0m\u001b[37m\u001b[0m \u001b[1m4s\u001b[0m 3ms/step - accuracy: 0.8487 - loss: 0.3199 - val_accuracy: 0.8186 - val_loss: 0.3841\n",
            "Epoch 45/50\n",
            "\u001b[1m1383/1383\u001b[0m \u001b[32m━━━━━━━━━━━━━━━━━━━━\u001b[0m\u001b[37m\u001b[0m \u001b[1m3s\u001b[0m 2ms/step - accuracy: 0.8503 - loss: 0.3187 - val_accuracy: 0.8283 - val_loss: 0.3718\n",
            "Epoch 46/50\n",
            "\u001b[1m1383/1383\u001b[0m \u001b[32m━━━━━━━━━━━━━━━━━━━━\u001b[0m\u001b[37m\u001b[0m \u001b[1m6s\u001b[0m 2ms/step - accuracy: 0.8528 - loss: 0.3177 - val_accuracy: 0.8210 - val_loss: 0.3811\n",
            "Epoch 47/50\n",
            "\u001b[1m1383/1383\u001b[0m \u001b[32m━━━━━━━━━━━━━━━━━━━━\u001b[0m\u001b[37m\u001b[0m \u001b[1m4s\u001b[0m 3ms/step - accuracy: 0.8555 - loss: 0.3120 - val_accuracy: 0.8308 - val_loss: 0.3656\n",
            "Epoch 48/50\n",
            "\u001b[1m1383/1383\u001b[0m \u001b[32m━━━━━━━━━━━━━━━━━━━━\u001b[0m\u001b[37m\u001b[0m \u001b[1m4s\u001b[0m 2ms/step - accuracy: 0.8547 - loss: 0.3057 - val_accuracy: 0.8275 - val_loss: 0.3717\n",
            "Epoch 49/50\n",
            "\u001b[1m1383/1383\u001b[0m \u001b[32m━━━━━━━━━━━━━━━━━━━━\u001b[0m\u001b[37m\u001b[0m \u001b[1m5s\u001b[0m 2ms/step - accuracy: 0.8624 - loss: 0.3018 - val_accuracy: 0.8356 - val_loss: 0.3660\n",
            "Epoch 50/50\n",
            "\u001b[1m1383/1383\u001b[0m \u001b[32m━━━━━━━━━━━━━━━━━━━━\u001b[0m\u001b[37m\u001b[0m \u001b[1m5s\u001b[0m 2ms/step - accuracy: 0.8570 - loss: 0.3111 - val_accuracy: 0.8365 - val_loss: 0.3587\n"
          ]
        }
      ]
    },
    {
      "cell_type": "code",
      "source": [
        "loss2, accuracy2 = nnmodel2.evaluate(test_pca_df, y_test)\n",
        "print(f\"\\nTest Accuracy: {accuracy2:.4f}\")\n",
        "y_pred2nn = (nnmodel2.predict(test_pca_df) > 0.5).astype(int)\n",
        "print(\"\\nClassification Report:\")\n",
        "print(classification_report(y_test, y_pred2nn))"
      ],
      "metadata": {
        "colab": {
          "base_uri": "https://localhost:8080/"
        },
        "id": "vTzfEOq5KGHX",
        "outputId": "100e5e9a-f30e-4a78-ff57-b9ece3a0fea5"
      },
      "execution_count": null,
      "outputs": [
        {
          "output_type": "stream",
          "name": "stdout",
          "text": [
            "\u001b[1m96/96\u001b[0m \u001b[32m━━━━━━━━━━━━━━━━━━━━\u001b[0m\u001b[37m\u001b[0m \u001b[1m0s\u001b[0m 3ms/step - accuracy: 0.8468 - loss: 0.3217\n",
            "\n",
            "Test Accuracy: 0.8477\n",
            "\u001b[1m96/96\u001b[0m \u001b[32m━━━━━━━━━━━━━━━━━━━━\u001b[0m\u001b[37m\u001b[0m \u001b[1m0s\u001b[0m 3ms/step\n",
            "\n",
            "Classification Report:\n",
            "              precision    recall  f1-score   support\n",
            "\n",
            "           0       0.85      0.84      0.85      1550\n",
            "           1       0.84      0.85      0.85      1522\n",
            "\n",
            "    accuracy                           0.85      3072\n",
            "   macro avg       0.85      0.85      0.85      3072\n",
            "weighted avg       0.85      0.85      0.85      3072\n",
            "\n"
          ]
        }
      ]
    },
    {
      "cell_type": "markdown",
      "source": [
        "# SVM using specific leads that are most likely to be affected by autism"
      ],
      "metadata": {
        "id": "9GLEJDZI0pCN"
      }
    },
    {
      "cell_type": "code",
      "source": [
        "#list of leads used: FP2-F4, F4-C4, FP1-F3, F3-C3, F8-T4, T4-T6, F7-T3, T3-T5"
      ],
      "metadata": {
        "id": "wEF0c5CW79UE"
      },
      "execution_count": null,
      "outputs": []
    },
    {
      "cell_type": "code",
      "source": [
        "df_acc_leads=df_combined.drop(columns=['C4 -P4','P4 -O2','C3 -P3','P3 -O1','FP2-F8','T6 -O2','FP1-F7','T5 -O1'])"
      ],
      "metadata": {
        "id": "0TGSYO-B1IKq"
      },
      "execution_count": null,
      "outputs": []
    },
    {
      "cell_type": "code",
      "source": [
        "x_train_leads,x_test_leads,y_train_leads,y_test_leads=train_test_split(df_acc_leads,labels,test_size=0.2,random_state=42)"
      ],
      "metadata": {
        "id": "rWNaM70h2DQu"
      },
      "execution_count": null,
      "outputs": []
    },
    {
      "cell_type": "code",
      "source": [
        "sc2=StandardScaler()\n",
        "x_train_leads=sc2.fit_transform(x_train_leads)\n",
        "x_test_leads=sc2.transform(x_test_leads)"
      ],
      "metadata": {
        "id": "-GUuFwzU2INC"
      },
      "execution_count": null,
      "outputs": []
    },
    {
      "cell_type": "code",
      "source": [
        "# Create and train the SVM model\n",
        "model3 = SVC(kernel='linear')\n",
        "model3.fit(x_train_leads, y_train_leads)\n",
        "\n",
        "# Make predictions\n",
        "y_pred5 = model3.predict(x_test_leads)\n",
        "\n",
        "# Evaluate the model\n",
        "accuracy5 = accuracy_score(y_test_leads, y_pred5)\n",
        "print(f\"Accuracy Score: {accuracy5}\")\n",
        "print(confusion_matrix(y_test_leads, y_pred5))\n",
        "print(classification_report(y_test_leads, y_pred5))"
      ],
      "metadata": {
        "colab": {
          "base_uri": "https://localhost:8080/"
        },
        "id": "CvXRcLIt2OW8",
        "outputId": "df909c7b-420e-4db6-bee6-d8cf33048d68"
      },
      "execution_count": null,
      "outputs": [
        {
          "output_type": "stream",
          "name": "stdout",
          "text": [
            "Accuracy Score: 0.5882161458333334\n",
            "[[ 748  802]\n",
            " [ 463 1059]]\n",
            "              precision    recall  f1-score   support\n",
            "\n",
            "           0       0.62      0.48      0.54      1550\n",
            "           1       0.57      0.70      0.63      1522\n",
            "\n",
            "    accuracy                           0.59      3072\n",
            "   macro avg       0.59      0.59      0.58      3072\n",
            "weighted avg       0.59      0.59      0.58      3072\n",
            "\n"
          ]
        }
      ]
    },
    {
      "cell_type": "code",
      "source": [
        "rf3= RandomForestClassifier(n_estimators=100, random_state=42)\n",
        "rf3.fit(x_train_leads, y_train_leads)\n",
        "\n",
        "# Make predictions\n",
        "y_pred_rf3 =rf3.predict(x_test_leads)\n",
        "\n",
        "# Evaluate the model\n",
        "accuracy6 = accuracy_score(y_test_leads, y_pred_rf3)\n",
        "print(f\"Accuracy Score: {accuracy6}\")\n",
        "print(confusion_matrix(y_test_leads, y_pred_rf3))\n",
        "print(classification_report(y_test_leads, y_pred_rf3))"
      ],
      "metadata": {
        "colab": {
          "base_uri": "https://localhost:8080/"
        },
        "id": "kQdgZPyQ5vfJ",
        "outputId": "079c6a3f-4936-44b6-80b8-11de8ae27b21"
      },
      "execution_count": null,
      "outputs": [
        {
          "output_type": "stream",
          "name": "stdout",
          "text": [
            "Accuracy Score: 0.9606119791666666\n",
            "[[1477   73]\n",
            " [  48 1474]]\n",
            "              precision    recall  f1-score   support\n",
            "\n",
            "           0       0.97      0.95      0.96      1550\n",
            "           1       0.95      0.97      0.96      1522\n",
            "\n",
            "    accuracy                           0.96      3072\n",
            "   macro avg       0.96      0.96      0.96      3072\n",
            "weighted avg       0.96      0.96      0.96      3072\n",
            "\n"
          ]
        }
      ]
    },
    {
      "cell_type": "code",
      "source": [
        "df_acc_leads.info()"
      ],
      "metadata": {
        "colab": {
          "base_uri": "https://localhost:8080/"
        },
        "id": "uOZQL3UcSNKn",
        "outputId": "d9c36b98-656a-4472-900b-46c1218c23b0"
      },
      "execution_count": null,
      "outputs": [
        {
          "output_type": "stream",
          "name": "stdout",
          "text": [
            "<class 'pandas.core.frame.DataFrame'>\n",
            "RangeIndex: 15359 entries, 0 to 15358\n",
            "Data columns (total 8 columns):\n",
            " #   Column  Non-Null Count  Dtype  \n",
            "---  ------  --------------  -----  \n",
            " 0   FP2-F4  15359 non-null  float64\n",
            " 1   F4 -C4  15359 non-null  float64\n",
            " 2   FP1-F3  15359 non-null  float64\n",
            " 3   F3 -C3  15359 non-null  float64\n",
            " 4   F8 -T4  15359 non-null  float64\n",
            " 5   T4 -T6  15359 non-null  float64\n",
            " 6   F7 -T3  15359 non-null  float64\n",
            " 7   T3 -T5  15359 non-null  float64\n",
            "dtypes: float64(8)\n",
            "memory usage: 960.1 KB\n"
          ]
        }
      ]
    },
    {
      "cell_type": "code",
      "source": [
        "cols=['FP2-F4','F4 -C4','FP1-F3','F3 -C3','F8 -T4','T4 -T6','F7 -T3','T3 -T5' ]"
      ],
      "metadata": {
        "id": "SsMRaALzSRP5"
      },
      "execution_count": null,
      "outputs": []
    },
    {
      "cell_type": "code",
      "source": [
        "# Get feature importances and feature names\n",
        "importances = rf3.feature_importances_\n",
        "feature_names = df_acc_leads.columns\n",
        "# Sort the importances and corresponding feature names\n",
        "sorted_idx = np.argsort(importances)  # ascending order\n",
        "sorted_importances = importances[sorted_idx]\n",
        "sorted_features = feature_names[sorted_idx]\n",
        "\n",
        "# Plot\n",
        "plt.figure(figsize=(10, 6))\n",
        "sns.barplot(x=sorted_importances, y=sorted_features)\n",
        "plt.title(\"Random Forest Feature Importances using select features (Sorted)\")\n",
        "plt.xlabel(\"Importance Score\")\n",
        "plt.ylabel(\"EEG Lead\")\n",
        "plt.tight_layout()\n",
        "plt.show()"
      ],
      "metadata": {
        "colab": {
          "base_uri": "https://localhost:8080/",
          "height": 607
        },
        "id": "pJzmXRgFCwQW",
        "outputId": "498f048d-3067-46af-b447-85b81253ccc3"
      },
      "execution_count": null,
      "outputs": [
        {
          "output_type": "display_data",
          "data": {
            "text/plain": [
              "<Figure size 1000x600 with 1 Axes>"
            ],
            "image/png": "[encoded data removed]"
          },
          "metadata": {}
        }
      ]
    },
    {
      "cell_type": "code",
      "source": [
        "nnmodel3 = Sequential()\n",
        "nnmodel3.add(Dense(16, activation='relu', input_shape=(x_train_leads.shape[1],)))\n",
        "nnmodel3.add(Dense(8, activation='relu'))\n",
        "nnmodel3.add(Dense(1, activation='sigmoid'))\n",
        "nnmodel3.compile(optimizer=Adam(learning_rate=0.001), loss='binary_crossentropy', metrics=['accuracy'])"
      ],
      "metadata": {
        "colab": {
          "base_uri": "https://localhost:8080/"
        },
        "id": "9Y8i7nUFSSBY",
        "outputId": "940bb220-1e10-487a-dfaa-834288138248"
      },
      "execution_count": null,
      "outputs": [
        {
          "output_type": "stream",
          "name": "stderr",
          "text": [
            "/usr/local/lib/python3.11/dist-packages/keras/src/layers/core/dense.py:87: UserWarning: Do not pass an `input_shape`/`input_dim` argument to a layer. When using Sequential models, prefer using an `Input(shape)` object as the first layer in the model instead.\n",
            "  super().__init__(activity_regularizer=activity_regularizer, **kwargs)\n"
          ]
        }
      ]
    },
    {
      "cell_type": "code",
      "source": [
        "y_train_leads = np.array(y_train_leads)\n",
        "y_test_leads = np.array(y_test_leads)"
      ],
      "metadata": {
        "id": "WB6tULg_TvOT"
      },
      "execution_count": null,
      "outputs": []
    },
    {
      "cell_type": "code",
      "source": [
        "history = nnmodel3.fit(x_train_leads, y_train_leads, epochs=50, batch_size=8, validation_split=0.1, verbose=1)"
      ],
      "metadata": {
        "colab": {
          "base_uri": "https://localhost:8080/"
        },
        "id": "a44QzKHnT3kC",
        "outputId": "9390ba7f-1421-4c0c-b50e-d3bd844be49a"
      },
      "execution_count": null,
      "outputs": [
        {
          "output_type": "stream",
          "name": "stdout",
          "text": [
            "Epoch 1/50\n",
            "\u001b[1m1383/1383\u001b[0m \u001b[32m━━━━━━━━━━━━━━━━━━━━\u001b[0m\u001b[37m\u001b[0m \u001b[1m9s\u001b[0m 4ms/step - accuracy: 0.5967 - loss: 0.6516 - val_accuracy: 0.7071 - val_loss: 0.5416\n",
            "Epoch 2/50\n",
            "\u001b[1m1383/1383\u001b[0m \u001b[32m━━━━━━━━━━━━━━━━━━━━\u001b[0m\u001b[37m\u001b[0m \u001b[1m8s\u001b[0m 2ms/step - accuracy: 0.7566 - loss: 0.4817 - val_accuracy: 0.7811 - val_loss: 0.4578\n",
            "Epoch 3/50\n",
            "\u001b[1m1383/1383\u001b[0m \u001b[32m━━━━━━━━━━━━━━━━━━━━\u001b[0m\u001b[37m\u001b[0m \u001b[1m3s\u001b[0m 2ms/step - accuracy: 0.8071 - loss: 0.4000 - val_accuracy: 0.7950 - val_loss: 0.4354\n",
            "Epoch 4/50\n",
            "\u001b[1m1383/1383\u001b[0m \u001b[32m━━━━━━━━━━━━━━━━━━━━\u001b[0m\u001b[37m\u001b[0m \u001b[1m3s\u001b[0m 2ms/step - accuracy: 0.8162 - loss: 0.3915 - val_accuracy: 0.7998 - val_loss: 0.4315\n",
            "Epoch 5/50\n",
            "\u001b[1m1383/1383\u001b[0m \u001b[32m━━━━━━━━━━━━━━━━━━━━\u001b[0m\u001b[37m\u001b[0m \u001b[1m4s\u001b[0m 3ms/step - accuracy: 0.8275 - loss: 0.3664 - val_accuracy: 0.8031 - val_loss: 0.4300\n",
            "Epoch 6/50\n",
            "\u001b[1m1383/1383\u001b[0m \u001b[32m━━━━━━━━━━━━━━━━━━━━\u001b[0m\u001b[37m\u001b[0m \u001b[1m3s\u001b[0m 2ms/step - accuracy: 0.8378 - loss: 0.3497 - val_accuracy: 0.8088 - val_loss: 0.4221\n",
            "Epoch 7/50\n",
            "\u001b[1m1383/1383\u001b[0m \u001b[32m━━━━━━━━━━━━━━━━━━━━\u001b[0m\u001b[37m\u001b[0m \u001b[1m6s\u001b[0m 3ms/step - accuracy: 0.8407 - loss: 0.3475 - val_accuracy: 0.8096 - val_loss: 0.4163\n",
            "Epoch 8/50\n",
            "\u001b[1m1383/1383\u001b[0m \u001b[32m━━━━━━━━━━━━━━━━━━━━\u001b[0m\u001b[37m\u001b[0m \u001b[1m4s\u001b[0m 2ms/step - accuracy: 0.8392 - loss: 0.3436 - val_accuracy: 0.8039 - val_loss: 0.4144\n",
            "Epoch 9/50\n",
            "\u001b[1m1383/1383\u001b[0m \u001b[32m━━━━━━━━━━━━━━━━━━━━\u001b[0m\u001b[37m\u001b[0m \u001b[1m6s\u001b[0m 3ms/step - accuracy: 0.8485 - loss: 0.3276 - val_accuracy: 0.8120 - val_loss: 0.4086\n",
            "Epoch 10/50\n",
            "\u001b[1m1383/1383\u001b[0m \u001b[32m━━━━━━━━━━━━━━━━━━━━\u001b[0m\u001b[37m\u001b[0m \u001b[1m6s\u001b[0m 4ms/step - accuracy: 0.8500 - loss: 0.3290 - val_accuracy: 0.8088 - val_loss: 0.4107\n",
            "Epoch 11/50\n",
            "\u001b[1m1383/1383\u001b[0m \u001b[32m━━━━━━━━━━━━━━━━━━━━\u001b[0m\u001b[37m\u001b[0m \u001b[1m8s\u001b[0m 2ms/step - accuracy: 0.8488 - loss: 0.3253 - val_accuracy: 0.8210 - val_loss: 0.4099\n",
            "Epoch 12/50\n",
            "\u001b[1m1383/1383\u001b[0m \u001b[32m━━━━━━━━━━━━━━━━━━━━\u001b[0m\u001b[37m\u001b[0m \u001b[1m5s\u001b[0m 2ms/step - accuracy: 0.8529 - loss: 0.3179 - val_accuracy: 0.8137 - val_loss: 0.3991\n",
            "Epoch 13/50\n",
            "\u001b[1m1383/1383\u001b[0m \u001b[32m━━━━━━━━━━━━━━━━━━━━\u001b[0m\u001b[37m\u001b[0m \u001b[1m3s\u001b[0m 2ms/step - accuracy: 0.8524 - loss: 0.3208 - val_accuracy: 0.8177 - val_loss: 0.3995\n",
            "Epoch 14/50\n",
            "\u001b[1m1383/1383\u001b[0m \u001b[32m━━━━━━━━━━━━━━━━━━━━\u001b[0m\u001b[37m\u001b[0m \u001b[1m3s\u001b[0m 2ms/step - accuracy: 0.8575 - loss: 0.3090 - val_accuracy: 0.8259 - val_loss: 0.4001\n",
            "Epoch 15/50\n",
            "\u001b[1m1383/1383\u001b[0m \u001b[32m━━━━━━━━━━━━━━━━━━━━\u001b[0m\u001b[37m\u001b[0m \u001b[1m6s\u001b[0m 3ms/step - accuracy: 0.8554 - loss: 0.3095 - val_accuracy: 0.8194 - val_loss: 0.3947\n",
            "Epoch 16/50\n",
            "\u001b[1m1383/1383\u001b[0m \u001b[32m━━━━━━━━━━━━━━━━━━━━\u001b[0m\u001b[37m\u001b[0m \u001b[1m3s\u001b[0m 2ms/step - accuracy: 0.8595 - loss: 0.3051 - val_accuracy: 0.8186 - val_loss: 0.3962\n",
            "Epoch 17/50\n",
            "\u001b[1m1383/1383\u001b[0m \u001b[32m━━━━━━━━━━━━━━━━━━━━\u001b[0m\u001b[37m\u001b[0m \u001b[1m3s\u001b[0m 2ms/step - accuracy: 0.8627 - loss: 0.2985 - val_accuracy: 0.8275 - val_loss: 0.3919\n",
            "Epoch 18/50\n",
            "\u001b[1m1383/1383\u001b[0m \u001b[32m━━━━━━━━━━━━━━━━━━━━\u001b[0m\u001b[37m\u001b[0m \u001b[1m4s\u001b[0m 3ms/step - accuracy: 0.8629 - loss: 0.3005 - val_accuracy: 0.8251 - val_loss: 0.3823\n",
            "Epoch 19/50\n",
            "\u001b[1m1383/1383\u001b[0m \u001b[32m━━━━━━━━━━━━━━━━━━━━\u001b[0m\u001b[37m\u001b[0m \u001b[1m4s\u001b[0m 2ms/step - accuracy: 0.8660 - loss: 0.2964 - val_accuracy: 0.8242 - val_loss: 0.3796\n",
            "Epoch 20/50\n",
            "\u001b[1m1383/1383\u001b[0m \u001b[32m━━━━━━━━━━━━━━━━━━━━\u001b[0m\u001b[37m\u001b[0m \u001b[1m5s\u001b[0m 2ms/step - accuracy: 0.8612 - loss: 0.2974 - val_accuracy: 0.8316 - val_loss: 0.3784\n",
            "Epoch 21/50\n",
            "\u001b[1m1383/1383\u001b[0m \u001b[32m━━━━━━━━━━━━━━━━━━━━\u001b[0m\u001b[37m\u001b[0m \u001b[1m5s\u001b[0m 3ms/step - accuracy: 0.8657 - loss: 0.2895 - val_accuracy: 0.8316 - val_loss: 0.3768\n",
            "Epoch 22/50\n",
            "\u001b[1m1383/1383\u001b[0m \u001b[32m━━━━━━━━━━━━━━━━━━━━\u001b[0m\u001b[37m\u001b[0m \u001b[1m3s\u001b[0m 2ms/step - accuracy: 0.8644 - loss: 0.2962 - val_accuracy: 0.8332 - val_loss: 0.3720\n",
            "Epoch 23/50\n",
            "\u001b[1m1383/1383\u001b[0m \u001b[32m━━━━━━━━━━━━━━━━━━━━\u001b[0m\u001b[37m\u001b[0m \u001b[1m3s\u001b[0m 2ms/step - accuracy: 0.8614 - loss: 0.2977 - val_accuracy: 0.8275 - val_loss: 0.3798\n",
            "Epoch 24/50\n",
            "\u001b[1m1383/1383\u001b[0m \u001b[32m━━━━━━━━━━━━━━━━━━━━\u001b[0m\u001b[37m\u001b[0m \u001b[1m6s\u001b[0m 3ms/step - accuracy: 0.8672 - loss: 0.2872 - val_accuracy: 0.8324 - val_loss: 0.3721\n",
            "Epoch 25/50\n",
            "\u001b[1m1383/1383\u001b[0m \u001b[32m━━━━━━━━━━━━━━━━━━━━\u001b[0m\u001b[37m\u001b[0m \u001b[1m5s\u001b[0m 2ms/step - accuracy: 0.8616 - loss: 0.2928 - val_accuracy: 0.8373 - val_loss: 0.3729\n",
            "Epoch 26/50\n",
            "\u001b[1m1383/1383\u001b[0m \u001b[32m━━━━━━━━━━━━━━━━━━━━\u001b[0m\u001b[37m\u001b[0m \u001b[1m3s\u001b[0m 2ms/step - accuracy: 0.8622 - loss: 0.2922 - val_accuracy: 0.8348 - val_loss: 0.3791\n",
            "Epoch 27/50\n",
            "\u001b[1m1383/1383\u001b[0m \u001b[32m━━━━━━━━━━━━━━━━━━━━\u001b[0m\u001b[37m\u001b[0m \u001b[1m4s\u001b[0m 3ms/step - accuracy: 0.8711 - loss: 0.2837 - val_accuracy: 0.8356 - val_loss: 0.3728\n",
            "Epoch 28/50\n",
            "\u001b[1m1383/1383\u001b[0m \u001b[32m━━━━━━━━━━━━━━━━━━━━\u001b[0m\u001b[37m\u001b[0m \u001b[1m4s\u001b[0m 2ms/step - accuracy: 0.8699 - loss: 0.2815 - val_accuracy: 0.8389 - val_loss: 0.3680\n",
            "Epoch 29/50\n",
            "\u001b[1m1383/1383\u001b[0m \u001b[32m━━━━━━━━━━━━━━━━━━━━\u001b[0m\u001b[37m\u001b[0m \u001b[1m5s\u001b[0m 3ms/step - accuracy: 0.8641 - loss: 0.2881 - val_accuracy: 0.8356 - val_loss: 0.3894\n",
            "Epoch 30/50\n",
            "\u001b[1m1383/1383\u001b[0m \u001b[32m━━━━━━━━━━━━━━━━━━━━\u001b[0m\u001b[37m\u001b[0m \u001b[1m4s\u001b[0m 3ms/step - accuracy: 0.8739 - loss: 0.2747 - val_accuracy: 0.8373 - val_loss: 0.3735\n",
            "Epoch 31/50\n",
            "\u001b[1m1383/1383\u001b[0m \u001b[32m━━━━━━━━━━━━━━━━━━━━\u001b[0m\u001b[37m\u001b[0m \u001b[1m4s\u001b[0m 2ms/step - accuracy: 0.8739 - loss: 0.2782 - val_accuracy: 0.8397 - val_loss: 0.3732\n",
            "Epoch 32/50\n",
            "\u001b[1m1383/1383\u001b[0m \u001b[32m━━━━━━━━━━━━━━━━━━━━\u001b[0m\u001b[37m\u001b[0m \u001b[1m3s\u001b[0m 2ms/step - accuracy: 0.8680 - loss: 0.2803 - val_accuracy: 0.8389 - val_loss: 0.3601\n",
            "Epoch 33/50\n",
            "\u001b[1m1383/1383\u001b[0m \u001b[32m━━━━━━━━━━━━━━━━━━━━\u001b[0m\u001b[37m\u001b[0m \u001b[1m5s\u001b[0m 3ms/step - accuracy: 0.8704 - loss: 0.2832 - val_accuracy: 0.8365 - val_loss: 0.3656\n",
            "Epoch 34/50\n",
            "\u001b[1m1383/1383\u001b[0m \u001b[32m━━━━━━━━━━━━━━━━━━━━\u001b[0m\u001b[37m\u001b[0m \u001b[1m3s\u001b[0m 2ms/step - accuracy: 0.8715 - loss: 0.2758 - val_accuracy: 0.8413 - val_loss: 0.3703\n",
            "Epoch 35/50\n",
            "\u001b[1m1383/1383\u001b[0m \u001b[32m━━━━━━━━━━━━━━━━━━━━\u001b[0m\u001b[37m\u001b[0m \u001b[1m5s\u001b[0m 2ms/step - accuracy: 0.8751 - loss: 0.2745 - val_accuracy: 0.8259 - val_loss: 0.3837\n",
            "Epoch 36/50\n",
            "\u001b[1m1383/1383\u001b[0m \u001b[32m━━━━━━━━━━━━━━━━━━━━\u001b[0m\u001b[37m\u001b[0m \u001b[1m4s\u001b[0m 3ms/step - accuracy: 0.8725 - loss: 0.2735 - val_accuracy: 0.8340 - val_loss: 0.3707\n",
            "Epoch 37/50\n",
            "\u001b[1m1383/1383\u001b[0m \u001b[32m━━━━━━━━━━━━━━━━━━━━\u001b[0m\u001b[37m\u001b[0m \u001b[1m4s\u001b[0m 2ms/step - accuracy: 0.8749 - loss: 0.2772 - val_accuracy: 0.8316 - val_loss: 0.3708\n",
            "Epoch 38/50\n",
            "\u001b[1m1383/1383\u001b[0m \u001b[32m━━━━━━━━━━━━━━━━━━━━\u001b[0m\u001b[37m\u001b[0m \u001b[1m5s\u001b[0m 2ms/step - accuracy: 0.8794 - loss: 0.2648 - val_accuracy: 0.8478 - val_loss: 0.3581\n",
            "Epoch 39/50\n",
            "\u001b[1m1383/1383\u001b[0m \u001b[32m━━━━━━━━━━━━━━━━━━━━\u001b[0m\u001b[37m\u001b[0m \u001b[1m4s\u001b[0m 3ms/step - accuracy: 0.8699 - loss: 0.2733 - val_accuracy: 0.8405 - val_loss: 0.3689\n",
            "Epoch 40/50\n",
            "\u001b[1m1383/1383\u001b[0m \u001b[32m━━━━━━━━━━━━━━━━━━━━\u001b[0m\u001b[37m\u001b[0m \u001b[1m3s\u001b[0m 2ms/step - accuracy: 0.8851 - loss: 0.2626 - val_accuracy: 0.8405 - val_loss: 0.3703\n",
            "Epoch 41/50\n",
            "\u001b[1m1383/1383\u001b[0m \u001b[32m━━━━━━━━━━━━━━━━━━━━\u001b[0m\u001b[37m\u001b[0m \u001b[1m3s\u001b[0m 2ms/step - accuracy: 0.8725 - loss: 0.2750 - val_accuracy: 0.8397 - val_loss: 0.3870\n",
            "Epoch 42/50\n",
            "\u001b[1m1383/1383\u001b[0m \u001b[32m━━━━━━━━━━━━━━━━━━━━\u001b[0m\u001b[37m\u001b[0m \u001b[1m4s\u001b[0m 3ms/step - accuracy: 0.8804 - loss: 0.2616 - val_accuracy: 0.8397 - val_loss: 0.3636\n",
            "Epoch 43/50\n",
            "\u001b[1m1383/1383\u001b[0m \u001b[32m━━━━━━━━━━━━━━━━━━━━\u001b[0m\u001b[37m\u001b[0m \u001b[1m4s\u001b[0m 2ms/step - accuracy: 0.8778 - loss: 0.2636 - val_accuracy: 0.8430 - val_loss: 0.3620\n",
            "Epoch 44/50\n",
            "\u001b[1m1383/1383\u001b[0m \u001b[32m━━━━━━━━━━━━━━━━━━━━\u001b[0m\u001b[37m\u001b[0m \u001b[1m5s\u001b[0m 2ms/step - accuracy: 0.8753 - loss: 0.2721 - val_accuracy: 0.8397 - val_loss: 0.3643\n",
            "Epoch 45/50\n",
            "\u001b[1m1383/1383\u001b[0m \u001b[32m━━━━━━━━━━━━━━━━━━━━\u001b[0m\u001b[37m\u001b[0m \u001b[1m4s\u001b[0m 3ms/step - accuracy: 0.8798 - loss: 0.2671 - val_accuracy: 0.8438 - val_loss: 0.3609\n",
            "Epoch 46/50\n",
            "\u001b[1m1383/1383\u001b[0m \u001b[32m━━━━━━━━━━━━━━━━━━━━\u001b[0m\u001b[37m\u001b[0m \u001b[1m3s\u001b[0m 2ms/step - accuracy: 0.8771 - loss: 0.2675 - val_accuracy: 0.8446 - val_loss: 0.3594\n",
            "Epoch 47/50\n",
            "\u001b[1m1383/1383\u001b[0m \u001b[32m━━━━━━━━━━━━━━━━━━━━\u001b[0m\u001b[37m\u001b[0m \u001b[1m3s\u001b[0m 2ms/step - accuracy: 0.8869 - loss: 0.2567 - val_accuracy: 0.8430 - val_loss: 0.3711\n",
            "Epoch 48/50\n",
            "\u001b[1m1383/1383\u001b[0m \u001b[32m━━━━━━━━━━━━━━━━━━━━\u001b[0m\u001b[37m\u001b[0m \u001b[1m3s\u001b[0m 2ms/step - accuracy: 0.8850 - loss: 0.2547 - val_accuracy: 0.8478 - val_loss: 0.3659\n",
            "Epoch 49/50\n",
            "\u001b[1m1383/1383\u001b[0m \u001b[32m━━━━━━━━━━━━━━━━━━━━\u001b[0m\u001b[37m\u001b[0m \u001b[1m5s\u001b[0m 2ms/step - accuracy: 0.8805 - loss: 0.2606 - val_accuracy: 0.8462 - val_loss: 0.3642\n",
            "Epoch 50/50\n",
            "\u001b[1m1383/1383\u001b[0m \u001b[32m━━━━━━━━━━━━━━━━━━━━\u001b[0m\u001b[37m\u001b[0m \u001b[1m3s\u001b[0m 2ms/step - accuracy: 0.8791 - loss: 0.2617 - val_accuracy: 0.8487 - val_loss: 0.3608\n"
          ]
        }
      ]
    },
    {
      "cell_type": "code",
      "source": [
        "#most influential in random forest(top 8) when all leads combined= FP1-F3, F3-C3, F7-T3, P3-O1, T3-T5, F4-C4, F8-T4, T4-T6\n",
        "#discrepancy: P3- 01(which is the top 8 in importance while taking all 14 leads into consideration ) , FP2- F4(which is supposed to be scientifically evident, but is last in the importance list while  considering 14 leads)"
      ],
      "metadata": {
        "id": "p4Jv8KCpTle4"
      },
      "execution_count": null,
      "outputs": []
    },
    {
      "cell_type": "code",
      "source": [
        "loss3, accuracy3 = nnmodel3.evaluate(x_test_leads, y_test_leads)\n",
        "print(f\"\\nTest Accuracy: {accuracy3:.4f}\")\n",
        "y_pred3 = (nnmodel3.predict(x_test_leads) > 0.5).astype(int)\n",
        "print(\"\\nClassification Report:\")\n",
        "print(classification_report(y_test_leads, y_pred3))"
      ],
      "metadata": {
        "colab": {
          "base_uri": "https://localhost:8080/"
        },
        "id": "Cs113TdCU910",
        "outputId": "e9c916ca-5a67-4884-cb1c-a76ef2445833"
      },
      "execution_count": null,
      "outputs": [
        {
          "output_type": "stream",
          "name": "stdout",
          "text": [
            "\u001b[1m96/96\u001b[0m \u001b[32m━━━━━━━━━━━━━━━━━━━━\u001b[0m\u001b[37m\u001b[0m \u001b[1m1s\u001b[0m 6ms/step - accuracy: 0.8505 - loss: 0.3146\n",
            "\n",
            "Test Accuracy: 0.8548\n",
            "\u001b[1m96/96\u001b[0m \u001b[32m━━━━━━━━━━━━━━━━━━━━\u001b[0m\u001b[37m\u001b[0m \u001b[1m1s\u001b[0m 4ms/step\n",
            "\n",
            "Classification Report:\n",
            "              precision    recall  f1-score   support\n",
            "\n",
            "           0       0.87      0.84      0.85      1550\n",
            "           1       0.84      0.87      0.86      1522\n",
            "\n",
            "    accuracy                           0.85      3072\n",
            "   macro avg       0.86      0.85      0.85      3072\n",
            "weighted avg       0.86      0.85      0.85      3072\n",
            "\n"
          ]
        }
      ]
    },
    {
      "cell_type": "markdown",
      "source": [
        "**Results at the end of day 3:**\n",
        "\n",
        "![results.png](data:image/png;base64,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)"
      ],
      "metadata": {
        "id": "KvH1c36tV2w7"
      }
    }
  ]
}